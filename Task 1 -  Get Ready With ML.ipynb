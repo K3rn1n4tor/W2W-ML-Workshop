{
 "cells": [
  {
   "cell_type": "code",
   "execution_count": 4,
   "metadata": {},
   "outputs": [],
   "source": [
    "import pandas as pd"
   ]
  },
  {
   "cell_type": "code",
   "execution_count": 5,
   "metadata": {},
   "outputs": [],
   "source": [
    "import seaborn as sb"
   ]
  },
  {
   "cell_type": "code",
   "execution_count": 6,
   "metadata": {},
   "outputs": [],
   "source": [
    "DataDir = \"./dataset1/\""
   ]
  },
  {
   "cell_type": "code",
   "execution_count": 7,
   "metadata": {},
   "outputs": [],
   "source": [
    "import os"
   ]
  },
  {
   "cell_type": "code",
   "execution_count": 8,
   "metadata": {},
   "outputs": [
    {
     "name": "stdout",
     "output_type": "stream",
     "text": [
      "ls: cannot access '$./dataset1/': No such file or directory\r\n"
     ]
    }
   ],
   "source": [
    "!ls ${DataDir}"
   ]
  },
  {
   "cell_type": "code",
   "execution_count": 9,
   "metadata": {},
   "outputs": [
    {
     "name": "stdout",
     "output_type": "stream",
     "text": [
      "lr.csv\t\t\t  pp_sample_submission.csv.zip\tpp_train.csv\r\n",
      "mean.csv\t\t  pp_test.csv\t\t\tpp_train.csv.zip\r\n",
      "pp_sample_submission.csv  pp_test.csv.zip\t\trf.csv\r\n"
     ]
    }
   ],
   "source": [
    "!ls $DataDir"
   ]
  },
  {
   "cell_type": "code",
   "execution_count": 10,
   "metadata": {},
   "outputs": [],
   "source": [
    "trainData = pd.read_csv(f'{DataDir}/pp_train.csv')"
   ]
  },
  {
   "cell_type": "code",
   "execution_count": 11,
   "metadata": {},
   "outputs": [
    {
     "data": {
      "text/html": [
       "<div>\n",
       "<style scoped>\n",
       "    .dataframe tbody tr th:only-of-type {\n",
       "        vertical-align: middle;\n",
       "    }\n",
       "\n",
       "    .dataframe tbody tr th {\n",
       "        vertical-align: top;\n",
       "    }\n",
       "\n",
       "    .dataframe thead th {\n",
       "        text-align: right;\n",
       "    }\n",
       "</style>\n",
       "<table border=\"1\" class=\"dataframe\">\n",
       "  <thead>\n",
       "    <tr style=\"text-align: right;\">\n",
       "      <th></th>\n",
       "      <th>Unnamed: 0</th>\n",
       "      <th>t2m_obs</th>\n",
       "      <th>time</th>\n",
       "      <th>station</th>\n",
       "      <th>t2m_fc_mean</th>\n",
       "      <th>orog</th>\n",
       "      <th>station_alt</th>\n",
       "      <th>station_lat</th>\n",
       "      <th>station_lon</th>\n",
       "      <th>u_pl500_fc_mean</th>\n",
       "      <th>...</th>\n",
       "      <th>sp_fc_mean</th>\n",
       "      <th>tcc_fc_mean</th>\n",
       "      <th>sshf_fc_mean</th>\n",
       "      <th>slhf_fc_mean</th>\n",
       "      <th>u10_fc_mean</th>\n",
       "      <th>v10_fc_mean</th>\n",
       "      <th>ssr_fc_mean</th>\n",
       "      <th>str_fc_mean</th>\n",
       "      <th>d2m_fc_mean</th>\n",
       "      <th>sm_fc_mean</th>\n",
       "    </tr>\n",
       "  </thead>\n",
       "  <tbody>\n",
       "    <tr>\n",
       "      <th>0</th>\n",
       "      <td>0</td>\n",
       "      <td>1.2</td>\n",
       "      <td>2011-01-01</td>\n",
       "      <td>3</td>\n",
       "      <td>-0.022290</td>\n",
       "      <td>107.439460</td>\n",
       "      <td>202.0</td>\n",
       "      <td>50.7827</td>\n",
       "      <td>6.0941</td>\n",
       "      <td>4.760467</td>\n",
       "      <td>...</td>\n",
       "      <td>101379.51</td>\n",
       "      <td>98.056010</td>\n",
       "      <td>634981.400</td>\n",
       "      <td>39645.008</td>\n",
       "      <td>2.208909</td>\n",
       "      <td>0.755302</td>\n",
       "      <td>2433034.8</td>\n",
       "      <td>-3513225.0</td>\n",
       "      <td>273.57892</td>\n",
       "      <td>374.63348</td>\n",
       "    </tr>\n",
       "    <tr>\n",
       "      <th>1</th>\n",
       "      <td>1</td>\n",
       "      <td>1.6</td>\n",
       "      <td>2011-01-01</td>\n",
       "      <td>44</td>\n",
       "      <td>2.086415</td>\n",
       "      <td>19.397774</td>\n",
       "      <td>44.0</td>\n",
       "      <td>52.9335</td>\n",
       "      <td>8.2370</td>\n",
       "      <td>14.442179</td>\n",
       "      <td>...</td>\n",
       "      <td>101709.04</td>\n",
       "      <td>98.741800</td>\n",
       "      <td>1592483.900</td>\n",
       "      <td>370638.600</td>\n",
       "      <td>6.223993</td>\n",
       "      <td>0.800821</td>\n",
       "      <td>2427059.2</td>\n",
       "      <td>-1702554.9</td>\n",
       "      <td>275.06873</td>\n",
       "      <td>388.60350</td>\n",
       "    </tr>\n",
       "    <tr>\n",
       "      <th>2</th>\n",
       "      <td>2</td>\n",
       "      <td>-6.3</td>\n",
       "      <td>2011-01-01</td>\n",
       "      <td>71</td>\n",
       "      <td>-6.609096</td>\n",
       "      <td>604.885000</td>\n",
       "      <td>759.0</td>\n",
       "      <td>48.2156</td>\n",
       "      <td>8.9784</td>\n",
       "      <td>0.254339</td>\n",
       "      <td>...</td>\n",
       "      <td>94432.85</td>\n",
       "      <td>91.602340</td>\n",
       "      <td>-1416809.800</td>\n",
       "      <td>-239365.980</td>\n",
       "      <td>-0.394419</td>\n",
       "      <td>-0.950840</td>\n",
       "      <td>4320586.0</td>\n",
       "      <td>-4435227.5</td>\n",
       "      <td>265.47473</td>\n",
       "      <td>437.02300</td>\n",
       "    </tr>\n",
       "    <tr>\n",
       "      <th>3</th>\n",
       "      <td>3</td>\n",
       "      <td>-3.0</td>\n",
       "      <td>2011-01-01</td>\n",
       "      <td>73</td>\n",
       "      <td>-5.071753</td>\n",
       "      <td>461.441800</td>\n",
       "      <td>340.0</td>\n",
       "      <td>48.6159</td>\n",
       "      <td>13.0506</td>\n",
       "      <td>2.489346</td>\n",
       "      <td>...</td>\n",
       "      <td>97368.55</td>\n",
       "      <td>91.139370</td>\n",
       "      <td>48696.496</td>\n",
       "      <td>-570603.400</td>\n",
       "      <td>1.923471</td>\n",
       "      <td>0.336067</td>\n",
       "      <td>5658946.5</td>\n",
       "      <td>-6691302.0</td>\n",
       "      <td>267.49640</td>\n",
       "      <td>366.52255</td>\n",
       "    </tr>\n",
       "    <tr>\n",
       "      <th>4</th>\n",
       "      <td>4</td>\n",
       "      <td>0.5</td>\n",
       "      <td>2011-01-01</td>\n",
       "      <td>78</td>\n",
       "      <td>1.743580</td>\n",
       "      <td>47.632523</td>\n",
       "      <td>65.0</td>\n",
       "      <td>52.4853</td>\n",
       "      <td>7.9126</td>\n",
       "      <td>11.600490</td>\n",
       "      <td>...</td>\n",
       "      <td>101419.82</td>\n",
       "      <td>99.178986</td>\n",
       "      <td>1435826.900</td>\n",
       "      <td>616228.750</td>\n",
       "      <td>4.472726</td>\n",
       "      <td>0.673820</td>\n",
       "      <td>2416039.5</td>\n",
       "      <td>-1872194.9</td>\n",
       "      <td>274.56433</td>\n",
       "      <td>263.73572</td>\n",
       "    </tr>\n",
       "  </tbody>\n",
       "</table>\n",
       "<p>5 rows × 26 columns</p>\n",
       "</div>"
      ],
      "text/plain": [
       "   Unnamed: 0  t2m_obs        time  station  t2m_fc_mean        orog  \\\n",
       "0           0      1.2  2011-01-01        3    -0.022290  107.439460   \n",
       "1           1      1.6  2011-01-01       44     2.086415   19.397774   \n",
       "2           2     -6.3  2011-01-01       71    -6.609096  604.885000   \n",
       "3           3     -3.0  2011-01-01       73    -5.071753  461.441800   \n",
       "4           4      0.5  2011-01-01       78     1.743580   47.632523   \n",
       "\n",
       "   station_alt  station_lat  station_lon  u_pl500_fc_mean     ...      \\\n",
       "0        202.0      50.7827       6.0941         4.760467     ...       \n",
       "1         44.0      52.9335       8.2370        14.442179     ...       \n",
       "2        759.0      48.2156       8.9784         0.254339     ...       \n",
       "3        340.0      48.6159      13.0506         2.489346     ...       \n",
       "4         65.0      52.4853       7.9126        11.600490     ...       \n",
       "\n",
       "   sp_fc_mean  tcc_fc_mean  sshf_fc_mean  slhf_fc_mean  u10_fc_mean  \\\n",
       "0   101379.51    98.056010    634981.400     39645.008     2.208909   \n",
       "1   101709.04    98.741800   1592483.900    370638.600     6.223993   \n",
       "2    94432.85    91.602340  -1416809.800   -239365.980    -0.394419   \n",
       "3    97368.55    91.139370     48696.496   -570603.400     1.923471   \n",
       "4   101419.82    99.178986   1435826.900    616228.750     4.472726   \n",
       "\n",
       "   v10_fc_mean  ssr_fc_mean  str_fc_mean  d2m_fc_mean  sm_fc_mean  \n",
       "0     0.755302    2433034.8   -3513225.0    273.57892   374.63348  \n",
       "1     0.800821    2427059.2   -1702554.9    275.06873   388.60350  \n",
       "2    -0.950840    4320586.0   -4435227.5    265.47473   437.02300  \n",
       "3     0.336067    5658946.5   -6691302.0    267.49640   366.52255  \n",
       "4     0.673820    2416039.5   -1872194.9    274.56433   263.73572  \n",
       "\n",
       "[5 rows x 26 columns]"
      ]
     },
     "execution_count": 11,
     "metadata": {},
     "output_type": "execute_result"
    }
   ],
   "source": [
    "trainData.head(5)"
   ]
  },
  {
   "cell_type": "code",
   "execution_count": 12,
   "metadata": {},
   "outputs": [],
   "source": [
    "trainDataRaw = trainData.copy()"
   ]
  },
  {
   "cell_type": "code",
   "execution_count": 13,
   "metadata": {},
   "outputs": [],
   "source": [
    "testData = pd.read_csv(f'{DataDir}/pp_test.csv')"
   ]
  },
  {
   "cell_type": "code",
   "execution_count": 14,
   "metadata": {},
   "outputs": [],
   "source": [
    "testDataRaw = testData.copy()"
   ]
  },
  {
   "cell_type": "code",
   "execution_count": 15,
   "metadata": {},
   "outputs": [
    {
     "data": {
      "text/plain": [
       "(980562, 26)"
      ]
     },
     "execution_count": 15,
     "metadata": {},
     "output_type": "execute_result"
    }
   ],
   "source": [
    "trainData.shape"
   ]
  },
  {
   "cell_type": "raw",
   "metadata": {},
   "source": [
    "trainData.columns"
   ]
  },
  {
   "cell_type": "code",
   "execution_count": 16,
   "metadata": {},
   "outputs": [
    {
     "data": {
      "text/plain": [
       "Index(['Unnamed: 0', 't2m_obs', 'time', 'station', 't2m_fc_mean', 'orog',\n",
       "       'station_alt', 'station_lat', 'station_lon', 'u_pl500_fc_mean',\n",
       "       'v_pl500_fc_mean', 'gh_pl500_fc_mean', 'u_pl850_fc_mean',\n",
       "       'v_pl850_fc_mean', 'q_pl850_fc_mean', 'cape_fc_mean', 'sp_fc_mean',\n",
       "       'tcc_fc_mean', 'sshf_fc_mean', 'slhf_fc_mean', 'u10_fc_mean',\n",
       "       'v10_fc_mean', 'ssr_fc_mean', 'str_fc_mean', 'd2m_fc_mean',\n",
       "       'sm_fc_mean'],\n",
       "      dtype='object')"
      ]
     },
     "execution_count": 16,
     "metadata": {},
     "output_type": "execute_result"
    }
   ],
   "source": [
    "trainData.columns"
   ]
  },
  {
   "cell_type": "code",
   "execution_count": 17,
   "metadata": {},
   "outputs": [
    {
     "data": {
      "text/plain": [
       "0         1.2\n",
       "1         1.6\n",
       "2        -6.3\n",
       "3        -3.0\n",
       "4         0.5\n",
       "5        -2.0\n",
       "6         3.4\n",
       "7         NaN\n",
       "8        -1.5\n",
       "9        -1.7\n",
       "10       -1.5\n",
       "11       -2.9\n",
       "12       -1.3\n",
       "13        NaN\n",
       "14        1.4\n",
       "15        1.9\n",
       "16        NaN\n",
       "17        1.3\n",
       "18       -1.9\n",
       "19       -0.6\n",
       "20       -2.4\n",
       "21       -1.1\n",
       "22       -1.4\n",
       "23       -0.8\n",
       "24       -0.7\n",
       "25       -2.6\n",
       "26        2.1\n",
       "27        2.4\n",
       "28        1.3\n",
       "29        0.1\n",
       "         ... \n",
       "980532   -3.3\n",
       "980533   -1.5\n",
       "980534   -3.2\n",
       "980535   -0.5\n",
       "980536   -1.7\n",
       "980537   -2.0\n",
       "980538    0.7\n",
       "980539    1.5\n",
       "980540    1.3\n",
       "980541   -0.6\n",
       "980542   -2.0\n",
       "980543    0.9\n",
       "980544   -1.9\n",
       "980545   -1.0\n",
       "980546    0.9\n",
       "980547    5.7\n",
       "980548    2.8\n",
       "980549    3.1\n",
       "980550    1.3\n",
       "980551    4.6\n",
       "980552   -2.1\n",
       "980553    1.5\n",
       "980554    3.0\n",
       "980555    NaN\n",
       "980556    1.1\n",
       "980557    NaN\n",
       "980558    7.5\n",
       "980559    0.4\n",
       "980560   -0.4\n",
       "980561    NaN\n",
       "Name: t2m_obs, Length: 980562, dtype: float64"
      ]
     },
     "execution_count": 17,
     "metadata": {},
     "output_type": "execute_result"
    }
   ],
   "source": [
    "trainData['t2m_obs']"
   ]
  },
  {
   "cell_type": "code",
   "execution_count": 18,
   "metadata": {},
   "outputs": [
    {
     "data": {
      "text/plain": [
       "7.531618395413346"
      ]
     },
     "execution_count": 18,
     "metadata": {},
     "output_type": "execute_result"
    }
   ],
   "source": [
    "trainData.t2m_obs.mean()"
   ]
  },
  {
   "cell_type": "code",
   "execution_count": 19,
   "metadata": {},
   "outputs": [],
   "source": [
    "import matplotlib.pyplot as plt"
   ]
  },
  {
   "cell_type": "code",
   "execution_count": 20,
   "metadata": {},
   "outputs": [
    {
     "data": {
      "text/plain": [
       "Index(['Unnamed: 0', 't2m_obs', 'time', 'station', 't2m_fc_mean', 'orog',\n",
       "       'station_alt', 'station_lat', 'station_lon', 'u_pl500_fc_mean',\n",
       "       'v_pl500_fc_mean', 'gh_pl500_fc_mean', 'u_pl850_fc_mean',\n",
       "       'v_pl850_fc_mean', 'q_pl850_fc_mean', 'cape_fc_mean', 'sp_fc_mean',\n",
       "       'tcc_fc_mean', 'sshf_fc_mean', 'slhf_fc_mean', 'u10_fc_mean',\n",
       "       'v10_fc_mean', 'ssr_fc_mean', 'str_fc_mean', 'd2m_fc_mean',\n",
       "       'sm_fc_mean'],\n",
       "      dtype='object')"
      ]
     },
     "execution_count": 20,
     "metadata": {},
     "output_type": "execute_result"
    }
   ],
   "source": [
    "trainData.columns"
   ]
  },
  {
   "cell_type": "code",
   "execution_count": 21,
   "metadata": {},
   "outputs": [
    {
     "data": {
      "text/plain": [
       "<matplotlib.axes._subplots.AxesSubplot at 0x7fd6acb4cd30>"
      ]
     },
     "execution_count": 21,
     "metadata": {},
     "output_type": "execute_result"
    },
    {
     "data": {
      "image/png": "[encoded data removed]",
      "text/plain": [
       "<Figure size 432x288 with 1 Axes>"
      ]
     },
     "metadata": {},
     "output_type": "display_data"
    }
   ],
   "source": [
    "trainData.t2m_obs.hist(bins=100,range=(-30,40),label=\"t2m\")"
   ]
  },
  {
   "cell_type": "code",
   "execution_count": 22,
   "metadata": {},
   "outputs": [
    {
     "name": "stderr",
     "output_type": "stream",
     "text": [
      "No handles with labels found to put in legend.\n"
     ]
    },
    {
     "data": {
      "text/plain": [
       "<matplotlib.legend.Legend at 0x7fd6ac928cc0>"
      ]
     },
     "execution_count": 22,
     "metadata": {},
     "output_type": "execute_result"
    },
    {
     "data": {
      "image/png": "[encoded data removed]",
      "text/plain": [
       "<Figure size 432x288 with 1 Axes>"
      ]
     },
     "metadata": {},
     "output_type": "display_data"
    }
   ],
   "source": [
    "plt.legend()"
   ]
  },
  {
   "cell_type": "code",
   "execution_count": 23,
   "metadata": {},
   "outputs": [
    {
     "data": {
      "text/plain": [
       "<matplotlib.axes._subplots.AxesSubplot at 0x7fd6ac8e0240>"
      ]
     },
     "execution_count": 23,
     "metadata": {},
     "output_type": "execute_result"
    },
    {
     "data": {
      "image/png": "[encoded data removed]",
      "text/plain": [
       "<Figure size 432x288 with 1 Axes>"
      ]
     },
     "metadata": {},
     "output_type": "display_data"
    }
   ],
   "source": [
    "trainData.t2m_fc_mean.hist(bins=100,range=(-30,40),label=\"t2m_fc\")"
   ]
  },
  {
   "cell_type": "code",
   "execution_count": 24,
   "metadata": {},
   "outputs": [
    {
     "name": "stderr",
     "output_type": "stream",
     "text": [
      "No handles with labels found to put in legend.\n"
     ]
    },
    {
     "data": {
      "image/png": "[encoded data removed]",
      "text/plain": [
       "<Figure size 432x288 with 1 Axes>"
      ]
     },
     "metadata": {},
     "output_type": "display_data"
    }
   ],
   "source": [
    "plt.legend();"
   ]
  },
  {
   "cell_type": "code",
   "execution_count": 25,
   "metadata": {},
   "outputs": [
    {
     "data": {
      "text/plain": [
       "<matplotlib.legend.Legend at 0x7fd6ac72dba8>"
      ]
     },
     "execution_count": 25,
     "metadata": {},
     "output_type": "execute_result"
    },
    {
     "data": {
      "image/png": "[encoded data removed]",
      "text/plain": [
       "<Figure size 432x288 with 1 Axes>"
      ]
     },
     "metadata": {},
     "output_type": "display_data"
    }
   ],
   "source": [
    "trainData.t2m_obs.hist(bins=100,range=(-30,40),label=\"t2m\")\n",
    "trainData.t2m_fc_mean.hist(bins=100,range=(-30,40),label=\"t2m_fc\",alpha=0.5)\n",
    "plt.legend()"
   ]
  },
  {
   "cell_type": "code",
   "execution_count": 26,
   "metadata": {},
   "outputs": [],
   "source": [
    "X = trainData['t2m_obs']"
   ]
  },
  {
   "cell_type": "code",
   "execution_count": 27,
   "metadata": {},
   "outputs": [],
   "source": [
    "Y = trainData['t2m_fc_mean']"
   ]
  },
  {
   "cell_type": "code",
   "execution_count": 28,
   "metadata": {},
   "outputs": [],
   "source": [
    "X.dropna(inplace=True)"
   ]
  },
  {
   "cell_type": "code",
   "execution_count": 29,
   "metadata": {},
   "outputs": [],
   "source": [
    "import numpy as np\n",
    "Y.replace(np.nan, Y.mean(), inplace=True)"
   ]
  },
  {
   "cell_type": "code",
   "execution_count": 30,
   "metadata": {},
   "outputs": [
    {
     "data": {
      "text/plain": [
       "False"
      ]
     },
     "execution_count": 30,
     "metadata": {},
     "output_type": "execute_result"
    }
   ],
   "source": [
    "np.isnan(Y).any()"
   ]
  },
  {
   "cell_type": "code",
   "execution_count": 31,
   "metadata": {},
   "outputs": [],
   "source": [
    "mse = ((Y - X) ** 2).mean()"
   ]
  },
  {
   "cell_type": "code",
   "execution_count": 32,
   "metadata": {},
   "outputs": [
    {
     "data": {
      "text/plain": [
       "3.8667748393126327"
      ]
     },
     "execution_count": 32,
     "metadata": {},
     "output_type": "execute_result"
    }
   ],
   "source": [
    "mse"
   ]
  },
  {
   "cell_type": "code",
   "execution_count": 33,
   "metadata": {},
   "outputs": [
    {
     "data": {
      "text/plain": [
       "False"
      ]
     },
     "execution_count": 33,
     "metadata": {},
     "output_type": "execute_result"
    }
   ],
   "source": [
    "np.isnan(X).any()"
   ]
  },
  {
   "cell_type": "code",
   "execution_count": 34,
   "metadata": {},
   "outputs": [],
   "source": [
    "xy = ((Y - X) ** 2)"
   ]
  },
  {
   "cell_type": "code",
   "execution_count": 35,
   "metadata": {},
   "outputs": [
    {
     "data": {
      "text/plain": [
       "908857"
      ]
     },
     "execution_count": 35,
     "metadata": {},
     "output_type": "execute_result"
    }
   ],
   "source": [
    "len(X)"
   ]
  },
  {
   "cell_type": "code",
   "execution_count": 36,
   "metadata": {},
   "outputs": [
    {
     "data": {
      "text/plain": [
       "3514345.380133267"
      ]
     },
     "execution_count": 36,
     "metadata": {},
     "output_type": "execute_result"
    }
   ],
   "source": [
    "xy.sum()"
   ]
  },
  {
   "cell_type": "code",
   "execution_count": 37,
   "metadata": {},
   "outputs": [
    {
     "data": {
      "text/plain": [
       "3.5840113936021045"
      ]
     },
     "execution_count": 37,
     "metadata": {},
     "output_type": "execute_result"
    }
   ],
   "source": [
    "xy.sum() / len(xy)"
   ]
  },
  {
   "cell_type": "code",
   "execution_count": 38,
   "metadata": {},
   "outputs": [
    {
     "data": {
      "text/plain": [
       "(908857,)"
      ]
     },
     "execution_count": 38,
     "metadata": {},
     "output_type": "execute_result"
    }
   ],
   "source": [
    "X.shape"
   ]
  },
  {
   "cell_type": "code",
   "execution_count": 39,
   "metadata": {},
   "outputs": [
    {
     "data": {
      "text/plain": [
       "(980562,)"
      ]
     },
     "execution_count": 39,
     "metadata": {},
     "output_type": "execute_result"
    }
   ],
   "source": [
    "Y.shape"
   ]
  },
  {
   "cell_type": "code",
   "execution_count": 40,
   "metadata": {},
   "outputs": [],
   "source": [
    "X = trainData['t2m_obs']\n",
    "Y = trainData['t2m_fc_mean']"
   ]
  },
  {
   "cell_type": "code",
   "execution_count": 41,
   "metadata": {},
   "outputs": [],
   "source": [
    "X.dropna(inplace=True)"
   ]
  },
  {
   "cell_type": "code",
   "execution_count": 42,
   "metadata": {},
   "outputs": [],
   "source": [
    "Y.dropna(inplace=True)"
   ]
  },
  {
   "cell_type": "code",
   "execution_count": 43,
   "metadata": {},
   "outputs": [
    {
     "data": {
      "text/plain": [
       "False"
      ]
     },
     "execution_count": 43,
     "metadata": {},
     "output_type": "execute_result"
    }
   ],
   "source": [
    "X.shape == Y.shape"
   ]
  },
  {
   "cell_type": "code",
   "execution_count": 44,
   "metadata": {},
   "outputs": [
    {
     "data": {
      "text/plain": [
       "(908857,)"
      ]
     },
     "execution_count": 44,
     "metadata": {},
     "output_type": "execute_result"
    }
   ],
   "source": [
    "X.shape"
   ]
  },
  {
   "cell_type": "code",
   "execution_count": 45,
   "metadata": {},
   "outputs": [
    {
     "data": {
      "text/plain": [
       "(980562,)"
      ]
     },
     "execution_count": 45,
     "metadata": {},
     "output_type": "execute_result"
    }
   ],
   "source": [
    "Y.shape"
   ]
  },
  {
   "cell_type": "code",
   "execution_count": 46,
   "metadata": {},
   "outputs": [],
   "source": [
    "trainData.dropna(subset=['t2m_obs'],inplace=True)"
   ]
  },
  {
   "cell_type": "code",
   "execution_count": 47,
   "metadata": {},
   "outputs": [
    {
     "data": {
      "text/plain": [
       "Unnamed: 0          0.00000\n",
       "t2m_obs             0.00000\n",
       "time                0.00000\n",
       "station             0.00000\n",
       "t2m_fc_mean         0.00000\n",
       "orog                0.00000\n",
       "station_alt         0.00000\n",
       "station_lat         0.00000\n",
       "station_lon         0.00000\n",
       "u_pl500_fc_mean     0.00000\n",
       "v_pl500_fc_mean     0.00000\n",
       "gh_pl500_fc_mean    0.00000\n",
       "u_pl850_fc_mean     0.00000\n",
       "v_pl850_fc_mean     0.00000\n",
       "q_pl850_fc_mean     0.00000\n",
       "cape_fc_mean        0.00000\n",
       "sp_fc_mean          0.00000\n",
       "tcc_fc_mean         0.00000\n",
       "sshf_fc_mean        0.00000\n",
       "slhf_fc_mean        0.00000\n",
       "u10_fc_mean         0.00000\n",
       "v10_fc_mean         0.00000\n",
       "ssr_fc_mean         0.00000\n",
       "str_fc_mean         0.00000\n",
       "d2m_fc_mean         0.00000\n",
       "sm_fc_mean          0.09184\n",
       "dtype: float64"
      ]
     },
     "execution_count": 47,
     "metadata": {},
     "output_type": "execute_result"
    }
   ],
   "source": [
    "trainData.apply(pd.Series.isna).mean()"
   ]
  },
  {
   "cell_type": "code",
   "execution_count": 48,
   "metadata": {},
   "outputs": [],
   "source": [
    "X = trainData['t2m_obs']"
   ]
  },
  {
   "cell_type": "code",
   "execution_count": 49,
   "metadata": {},
   "outputs": [
    {
     "data": {
      "text/plain": [
       "(908857,)"
      ]
     },
     "execution_count": 49,
     "metadata": {},
     "output_type": "execute_result"
    }
   ],
   "source": [
    "X.shape"
   ]
  },
  {
   "cell_type": "code",
   "execution_count": 50,
   "metadata": {},
   "outputs": [],
   "source": [
    "Y = trainData['t2m_fc_mean']"
   ]
  },
  {
   "cell_type": "code",
   "execution_count": 51,
   "metadata": {},
   "outputs": [
    {
     "data": {
      "text/plain": [
       "(908857,)"
      ]
     },
     "execution_count": 51,
     "metadata": {},
     "output_type": "execute_result"
    }
   ],
   "source": [
    "Y.shape"
   ]
  },
  {
   "cell_type": "code",
   "execution_count": 52,
   "metadata": {},
   "outputs": [],
   "source": [
    "mse = ((Y - X) ** 2).mean()"
   ]
  },
  {
   "cell_type": "code",
   "execution_count": 53,
   "metadata": {},
   "outputs": [
    {
     "data": {
      "text/plain": [
       "3.8667748393126327"
      ]
     },
     "execution_count": 53,
     "metadata": {},
     "output_type": "execute_result"
    }
   ],
   "source": [
    "mse"
   ]
  },
  {
   "cell_type": "code",
   "execution_count": 54,
   "metadata": {},
   "outputs": [],
   "source": [
    "xy = ((Y - X) ** 2)\n",
    "mse2 = xy.sum() / len(xy)"
   ]
  },
  {
   "cell_type": "code",
   "execution_count": 55,
   "metadata": {},
   "outputs": [
    {
     "data": {
      "text/plain": [
       "3.8667748393127486"
      ]
     },
     "execution_count": 55,
     "metadata": {},
     "output_type": "execute_result"
    }
   ],
   "source": [
    "mse2"
   ]
  },
  {
   "cell_type": "code",
   "execution_count": 56,
   "metadata": {},
   "outputs": [
    {
     "data": {
      "text/plain": [
       "7.531618395413346"
      ]
     },
     "execution_count": 56,
     "metadata": {},
     "output_type": "execute_result"
    }
   ],
   "source": [
    "X.mean()"
   ]
  },
  {
   "cell_type": "code",
   "execution_count": 57,
   "metadata": {},
   "outputs": [
    {
     "data": {
      "text/plain": [
       "7.279571712763294"
      ]
     },
     "execution_count": 57,
     "metadata": {},
     "output_type": "execute_result"
    }
   ],
   "source": [
    "Y.mean()"
   ]
  },
  {
   "cell_type": "code",
   "execution_count": 58,
   "metadata": {},
   "outputs": [],
   "source": [
    "bias = Y.mean() - X.mean()"
   ]
  },
  {
   "cell_type": "code",
   "execution_count": 59,
   "metadata": {},
   "outputs": [
    {
     "data": {
      "text/plain": [
       "-0.25204668265005203"
      ]
     },
     "execution_count": 59,
     "metadata": {},
     "output_type": "execute_result"
    }
   ],
   "source": [
    "bias"
   ]
  },
  {
   "cell_type": "code",
   "execution_count": 60,
   "metadata": {},
   "outputs": [],
   "source": [
    "YPrime = Y + bias"
   ]
  },
  {
   "cell_type": "code",
   "execution_count": null,
   "metadata": {},
   "outputs": [],
   "source": []
  },
  {
   "cell_type": "raw",
   "metadata": {},
   "source": [
    "testData.columns"
   ]
  },
  {
   "cell_type": "raw",
   "metadata": {},
   "source": [
    "testData['sm_fc_mean'].replace(np.nan, testData['sm_fc_mean'].mean(), inplace=True)"
   ]
  },
  {
   "cell_type": "raw",
   "metadata": {},
   "source": [
    "tY = testData['sm_fc_mean']"
   ]
  },
  {
   "cell_type": "raw",
   "metadata": {},
   "source": [
    "tY.shape"
   ]
  },
  {
   "cell_type": "raw",
   "metadata": {},
   "source": [
    "Y.shape"
   ]
  },
  {
   "cell_type": "raw",
   "metadata": {},
   "source": [
    "tYPrime = tY + bias"
   ]
  },
  {
   "cell_type": "code",
   "execution_count": 61,
   "metadata": {},
   "outputs": [],
   "source": [
    "def create_sub(preds, fn=None):\n",
    "    df =  pd.DataFrame({'Id': range(len(preds)), 'Expected': preds})\n",
    "    if fn is not None: df.to_csv(DATADIR + fn, index=False)\n",
    "    return df"
   ]
  },
  {
   "cell_type": "code",
   "execution_count": 62,
   "metadata": {},
   "outputs": [
    {
     "ename": "NameError",
     "evalue": "name 'tYPrime' is not defined",
     "output_type": "error",
     "traceback": [
      "\u001b[0;31m---------------------------------------------------------------------------\u001b[0m",
      "\u001b[0;31mNameError\u001b[0m                                 Traceback (most recent call last)",
      "\u001b[0;32m<ipython-input-62-32a9623ee880>\u001b[0m in \u001b[0;36m<module>\u001b[0;34m()\u001b[0m\n\u001b[0;32m----> 1\u001b[0;31m \u001b[0msub\u001b[0m \u001b[0;34m=\u001b[0m \u001b[0mcreate_sub\u001b[0m\u001b[0;34m(\u001b[0m\u001b[0mtYPrime\u001b[0m\u001b[0;34m)\u001b[0m\u001b[0;34m\u001b[0m\u001b[0m\n\u001b[0m",
      "\u001b[0;31mNameError\u001b[0m: name 'tYPrime' is not defined"
     ]
    }
   ],
   "source": [
    "sub = create_sub(tYPrime)"
   ]
  },
  {
   "cell_type": "code",
   "execution_count": null,
   "metadata": {},
   "outputs": [],
   "source": [
    "tYPrime"
   ]
  },
  {
   "cell_type": "code",
   "execution_count": null,
   "metadata": {},
   "outputs": [],
   "source": [
    "YTest = tY + bias"
   ]
  },
  {
   "cell_type": "code",
   "execution_count": null,
   "metadata": {},
   "outputs": [],
   "source": [
    "YTest"
   ]
  },
  {
   "cell_type": "code",
   "execution_count": null,
   "metadata": {},
   "outputs": [],
   "source": [
    "bias"
   ]
  },
  {
   "cell_type": "code",
   "execution_count": null,
   "metadata": {},
   "outputs": [],
   "source": [
    "sub = create_sub(YTest)"
   ]
  },
  {
   "cell_type": "code",
   "execution_count": null,
   "metadata": {},
   "outputs": [],
   "source": [
    "sub.head(5)"
   ]
  },
  {
   "cell_type": "code",
   "execution_count": null,
   "metadata": {},
   "outputs": [],
   "source": [
    "tY = testData['sm_fc_mean']"
   ]
  },
  {
   "cell_type": "code",
   "execution_count": null,
   "metadata": {},
   "outputs": [],
   "source": [
    "tY.mean()"
   ]
  },
  {
   "cell_type": "code",
   "execution_count": null,
   "metadata": {},
   "outputs": [],
   "source": [
    "testData['t2m_fc_mean'].replace(np.nan, testData['t2m_fc_mean'].mean(), inplace=True)"
   ]
  },
  {
   "cell_type": "code",
   "execution_count": null,
   "metadata": {},
   "outputs": [],
   "source": [
    "tY = testData['t2m_fc_mean']"
   ]
  },
  {
   "cell_type": "code",
   "execution_count": null,
   "metadata": {},
   "outputs": [],
   "source": [
    "tY.mean()"
   ]
  },
  {
   "cell_type": "code",
   "execution_count": null,
   "metadata": {},
   "outputs": [],
   "source": [
    "tYY = tY + bias"
   ]
  },
  {
   "cell_type": "code",
   "execution_count": null,
   "metadata": {},
   "outputs": [],
   "source": [
    "tYY.mean()"
   ]
  },
  {
   "cell_type": "code",
   "execution_count": 63,
   "metadata": {},
   "outputs": [
    {
     "ename": "NameError",
     "evalue": "name 'tYY' is not defined",
     "output_type": "error",
     "traceback": [
      "\u001b[0;31m---------------------------------------------------------------------------\u001b[0m",
      "\u001b[0;31mNameError\u001b[0m                                 Traceback (most recent call last)",
      "\u001b[0;32m<ipython-input-63-0a451d21ae90>\u001b[0m in \u001b[0;36m<module>\u001b[0;34m()\u001b[0m\n\u001b[0;32m----> 1\u001b[0;31m \u001b[0mtYY\u001b[0m\u001b[0;34m.\u001b[0m\u001b[0mmean\u001b[0m\u001b[0;34m(\u001b[0m\u001b[0;34m)\u001b[0m \u001b[0;34m-\u001b[0m \u001b[0mbias\u001b[0m \u001b[0;34m-\u001b[0m \u001b[0mbias\u001b[0m\u001b[0;34m\u001b[0m\u001b[0m\n\u001b[0m",
      "\u001b[0;31mNameError\u001b[0m: name 'tYY' is not defined"
     ]
    }
   ],
   "source": [
    "tYY.mean() - bias - bias"
   ]
  },
  {
   "cell_type": "code",
   "execution_count": 64,
   "metadata": {},
   "outputs": [
    {
     "ename": "NameError",
     "evalue": "name 'tY' is not defined",
     "output_type": "error",
     "traceback": [
      "\u001b[0;31m---------------------------------------------------------------------------\u001b[0m",
      "\u001b[0;31mNameError\u001b[0m                                 Traceback (most recent call last)",
      "\u001b[0;32m<ipython-input-64-05cefd753dfe>\u001b[0m in \u001b[0;36m<module>\u001b[0;34m()\u001b[0m\n\u001b[0;32m----> 1\u001b[0;31m \u001b[0mtYY\u001b[0m \u001b[0;34m=\u001b[0m \u001b[0mtY\u001b[0m \u001b[0;34m-\u001b[0m \u001b[0mbias\u001b[0m\u001b[0;34m\u001b[0m\u001b[0m\n\u001b[0m",
      "\u001b[0;31mNameError\u001b[0m: name 'tY' is not defined"
     ]
    }
   ],
   "source": [
    "tYY = tY - bias"
   ]
  },
  {
   "cell_type": "code",
   "execution_count": 65,
   "metadata": {},
   "outputs": [
    {
     "ename": "NameError",
     "evalue": "name 'tYY' is not defined",
     "output_type": "error",
     "traceback": [
      "\u001b[0;31m---------------------------------------------------------------------------\u001b[0m",
      "\u001b[0;31mNameError\u001b[0m                                 Traceback (most recent call last)",
      "\u001b[0;32m<ipython-input-65-ed8392021772>\u001b[0m in \u001b[0;36m<module>\u001b[0;34m()\u001b[0m\n\u001b[0;32m----> 1\u001b[0;31m \u001b[0mdf_sub\u001b[0m \u001b[0;34m=\u001b[0m \u001b[0mcreate_sub\u001b[0m\u001b[0;34m(\u001b[0m\u001b[0;34m[\u001b[0m\u001b[0mtYY\u001b[0m\u001b[0;34m.\u001b[0m\u001b[0mmean\u001b[0m\u001b[0;34m(\u001b[0m\u001b[0;34m)\u001b[0m\u001b[0;34m]\u001b[0m\u001b[0;34m*\u001b[0m\u001b[0mlen\u001b[0m\u001b[0;34m(\u001b[0m\u001b[0mtestData\u001b[0m\u001b[0;34m)\u001b[0m\u001b[0;34m,\u001b[0m \u001b[0;34m'mean.csv'\u001b[0m\u001b[0;34m)\u001b[0m\u001b[0;34m\u001b[0m\u001b[0m\n\u001b[0m",
      "\u001b[0;31mNameError\u001b[0m: name 'tYY' is not defined"
     ]
    }
   ],
   "source": [
    "df_sub = create_sub([tYY.mean()]*len(testData), 'mean.csv')"
   ]
  },
  {
   "cell_type": "code",
   "execution_count": 66,
   "metadata": {},
   "outputs": [],
   "source": [
    "def create_sub(preds, fn=None):\n",
    "    df =  pd.DataFrame({'Id': range(len(preds)), 'Expected': preds})\n",
    "    if fn is not None: df.to_csv(DataDir + fn, index=False)\n",
    "    return df"
   ]
  },
  {
   "cell_type": "code",
   "execution_count": 67,
   "metadata": {},
   "outputs": [
    {
     "ename": "NameError",
     "evalue": "name 'tYY' is not defined",
     "output_type": "error",
     "traceback": [
      "\u001b[0;31m---------------------------------------------------------------------------\u001b[0m",
      "\u001b[0;31mNameError\u001b[0m                                 Traceback (most recent call last)",
      "\u001b[0;32m<ipython-input-67-ed8392021772>\u001b[0m in \u001b[0;36m<module>\u001b[0;34m()\u001b[0m\n\u001b[0;32m----> 1\u001b[0;31m \u001b[0mdf_sub\u001b[0m \u001b[0;34m=\u001b[0m \u001b[0mcreate_sub\u001b[0m\u001b[0;34m(\u001b[0m\u001b[0;34m[\u001b[0m\u001b[0mtYY\u001b[0m\u001b[0;34m.\u001b[0m\u001b[0mmean\u001b[0m\u001b[0;34m(\u001b[0m\u001b[0;34m)\u001b[0m\u001b[0;34m]\u001b[0m\u001b[0;34m*\u001b[0m\u001b[0mlen\u001b[0m\u001b[0;34m(\u001b[0m\u001b[0mtestData\u001b[0m\u001b[0;34m)\u001b[0m\u001b[0;34m,\u001b[0m \u001b[0;34m'mean.csv'\u001b[0m\u001b[0;34m)\u001b[0m\u001b[0;34m\u001b[0m\u001b[0m\n\u001b[0m",
      "\u001b[0;31mNameError\u001b[0m: name 'tYY' is not defined"
     ]
    }
   ],
   "source": [
    "df_sub = create_sub([tYY.mean()]*len(testData), 'mean.csv')"
   ]
  },
  {
   "cell_type": "code",
   "execution_count": 68,
   "metadata": {},
   "outputs": [
    {
     "ename": "NameError",
     "evalue": "name 'df_sub' is not defined",
     "output_type": "error",
     "traceback": [
      "\u001b[0;31m---------------------------------------------------------------------------\u001b[0m",
      "\u001b[0;31mNameError\u001b[0m                                 Traceback (most recent call last)",
      "\u001b[0;32m<ipython-input-68-ab1af8a75c8c>\u001b[0m in \u001b[0;36m<module>\u001b[0;34m()\u001b[0m\n\u001b[0;32m----> 1\u001b[0;31m \u001b[0mdf_sub\u001b[0m\u001b[0;34m\u001b[0m\u001b[0m\n\u001b[0m",
      "\u001b[0;31mNameError\u001b[0m: name 'df_sub' is not defined"
     ]
    }
   ],
   "source": [
    "df_sub"
   ]
  },
  {
   "cell_type": "code",
   "execution_count": 69,
   "metadata": {},
   "outputs": [
    {
     "name": "stdout",
     "output_type": "stream",
     "text": [
      "Id,Expected\r\n",
      "0,4.253824682650052\r\n",
      "1,1.185568682650052\r\n",
      "2,0.06330520265005204\r\n",
      "3,4.205052482650052\r\n",
      "4,1.545451382650052\r\n",
      "5,6.376793982650052\r\n",
      "6,1.588017082650052\r\n",
      "7,3.565169182650052\r\n",
      "8,2.297659282650052\r\n"
     ]
    }
   ],
   "source": [
    "!head ./dataset1/mean.csv"
   ]
  },
  {
   "cell_type": "code",
   "execution_count": 70,
   "metadata": {},
   "outputs": [
    {
     "ename": "NameError",
     "evalue": "name 'tYY' is not defined",
     "output_type": "error",
     "traceback": [
      "\u001b[0;31m---------------------------------------------------------------------------\u001b[0m",
      "\u001b[0;31mNameError\u001b[0m                                 Traceback (most recent call last)",
      "\u001b[0;32m<ipython-input-70-9077a8e2ac38>\u001b[0m in \u001b[0;36m<module>\u001b[0;34m()\u001b[0m\n\u001b[0;32m----> 1\u001b[0;31m \u001b[0mtYY\u001b[0m\u001b[0;34m.\u001b[0m\u001b[0mmean\u001b[0m\u001b[0;34m(\u001b[0m\u001b[0;34m)\u001b[0m\u001b[0;34m\u001b[0m\u001b[0m\n\u001b[0m",
      "\u001b[0;31mNameError\u001b[0m: name 'tYY' is not defined"
     ]
    }
   ],
   "source": [
    "tYY.mean()"
   ]
  },
  {
   "cell_type": "code",
   "execution_count": null,
   "metadata": {},
   "outputs": [],
   "source": []
  },
  {
   "cell_type": "code",
   "execution_count": null,
   "metadata": {},
   "outputs": [],
   "source": []
  },
  {
   "cell_type": "code",
   "execution_count": null,
   "metadata": {},
   "outputs": [],
   "source": []
  },
  {
   "cell_type": "code",
   "execution_count": 71,
   "metadata": {},
   "outputs": [
    {
     "ename": "NameError",
     "evalue": "name 'tYY' is not defined",
     "output_type": "error",
     "traceback": [
      "\u001b[0;31m---------------------------------------------------------------------------\u001b[0m",
      "\u001b[0;31mNameError\u001b[0m                                 Traceback (most recent call last)",
      "\u001b[0;32m<ipython-input-71-1260eb0e7276>\u001b[0m in \u001b[0;36m<module>\u001b[0;34m()\u001b[0m\n\u001b[0;32m----> 1\u001b[0;31m \u001b[0mdf_sub\u001b[0m \u001b[0;34m=\u001b[0m \u001b[0mcreate_sub\u001b[0m\u001b[0;34m(\u001b[0m\u001b[0mtYY\u001b[0m\u001b[0;34m,\u001b[0m \u001b[0;34m'mean.csv'\u001b[0m\u001b[0;34m)\u001b[0m\u001b[0;34m\u001b[0m\u001b[0m\n\u001b[0m",
      "\u001b[0;31mNameError\u001b[0m: name 'tYY' is not defined"
     ]
    }
   ],
   "source": [
    "df_sub = create_sub(tYY, 'mean.csv')"
   ]
  },
  {
   "cell_type": "code",
   "execution_count": 72,
   "metadata": {},
   "outputs": [
    {
     "ename": "NameError",
     "evalue": "name 'df_sub' is not defined",
     "output_type": "error",
     "traceback": [
      "\u001b[0;31m---------------------------------------------------------------------------\u001b[0m",
      "\u001b[0;31mNameError\u001b[0m                                 Traceback (most recent call last)",
      "\u001b[0;32m<ipython-input-72-ab1af8a75c8c>\u001b[0m in \u001b[0;36m<module>\u001b[0;34m()\u001b[0m\n\u001b[0;32m----> 1\u001b[0;31m \u001b[0mdf_sub\u001b[0m\u001b[0;34m\u001b[0m\u001b[0m\n\u001b[0m",
      "\u001b[0;31mNameError\u001b[0m: name 'df_sub' is not defined"
     ]
    }
   ],
   "source": [
    "df_sub"
   ]
  },
  {
   "cell_type": "code",
   "execution_count": 73,
   "metadata": {},
   "outputs": [
    {
     "data": {
      "text/plain": [
       "0        -0.022290\n",
       "1         2.086415\n",
       "2        -6.609096\n",
       "3        -5.071753\n",
       "4         1.743580\n",
       "5        -1.646765\n",
       "6         3.768420\n",
       "8        -0.379339\n",
       "9        -5.208958\n",
       "10       -2.749108\n",
       "11       -3.666374\n",
       "12       -4.632233\n",
       "14        0.545553\n",
       "15        1.147215\n",
       "17        2.085754\n",
       "18       -3.162526\n",
       "19        0.096329\n",
       "20       -7.264445\n",
       "21       -2.561441\n",
       "22       -5.365300\n",
       "23       -5.598772\n",
       "24       -5.435004\n",
       "25       -3.178556\n",
       "26        0.893186\n",
       "27        1.874417\n",
       "28        0.474331\n",
       "29       -0.606885\n",
       "30       -3.679429\n",
       "31        0.950570\n",
       "32       -3.816793\n",
       "            ...   \n",
       "980529   -2.628169\n",
       "980530    5.997656\n",
       "980531    4.717664\n",
       "980532   -1.751684\n",
       "980533   -0.723174\n",
       "980534   -1.904290\n",
       "980535   -2.462491\n",
       "980536   -0.023812\n",
       "980537   -2.156344\n",
       "980538   -0.022886\n",
       "980539   -0.417117\n",
       "980540   -1.045442\n",
       "980541   -0.800716\n",
       "980542   -3.825060\n",
       "980543    1.865426\n",
       "980544   -1.036089\n",
       "980545   -2.769758\n",
       "980546    1.036272\n",
       "980547    4.859028\n",
       "980548   -0.074273\n",
       "980549    2.108365\n",
       "980550    4.113356\n",
       "980551    3.614759\n",
       "980552   -2.423944\n",
       "980553   -0.795521\n",
       "980554    1.842429\n",
       "980556    0.349665\n",
       "980558    5.528891\n",
       "980559    0.615183\n",
       "980560   -2.074630\n",
       "Name: t2m_fc_mean, Length: 908857, dtype: float64"
      ]
     },
     "execution_count": 73,
     "metadata": {},
     "output_type": "execute_result"
    }
   ],
   "source": [
    "Y"
   ]
  },
  {
   "cell_type": "code",
   "execution_count": 74,
   "metadata": {},
   "outputs": [
    {
     "data": {
      "text/plain": [
       "Index(['Unnamed: 0', 't2m_obs', 'time', 'station', 't2m_fc_mean', 'orog',\n",
       "       'station_alt', 'station_lat', 'station_lon', 'u_pl500_fc_mean',\n",
       "       'v_pl500_fc_mean', 'gh_pl500_fc_mean', 'u_pl850_fc_mean',\n",
       "       'v_pl850_fc_mean', 'q_pl850_fc_mean', 'cape_fc_mean', 'sp_fc_mean',\n",
       "       'tcc_fc_mean', 'sshf_fc_mean', 'slhf_fc_mean', 'u10_fc_mean',\n",
       "       'v10_fc_mean', 'ssr_fc_mean', 'str_fc_mean', 'd2m_fc_mean',\n",
       "       'sm_fc_mean'],\n",
       "      dtype='object')"
      ]
     },
     "execution_count": 74,
     "metadata": {},
     "output_type": "execute_result"
    }
   ],
   "source": [
    "trainData.columns"
   ]
  },
  {
   "cell_type": "code",
   "execution_count": 75,
   "metadata": {},
   "outputs": [
    {
     "data": {
      "text/plain": [
       "0         2011-01-01\n",
       "1         2011-01-01\n",
       "2         2011-01-01\n",
       "3         2011-01-01\n",
       "4         2011-01-01\n",
       "5         2011-01-01\n",
       "6         2011-01-01\n",
       "8         2011-01-01\n",
       "9         2011-01-01\n",
       "10        2011-01-01\n",
       "11        2011-01-01\n",
       "12        2011-01-01\n",
       "14        2011-01-01\n",
       "15        2011-01-01\n",
       "17        2011-01-01\n",
       "18        2011-01-01\n",
       "19        2011-01-01\n",
       "20        2011-01-01\n",
       "21        2011-01-01\n",
       "22        2011-01-01\n",
       "23        2011-01-01\n",
       "24        2011-01-01\n",
       "25        2011-01-01\n",
       "26        2011-01-01\n",
       "27        2011-01-01\n",
       "28        2011-01-01\n",
       "29        2011-01-01\n",
       "30        2011-01-01\n",
       "31        2011-01-01\n",
       "32        2011-01-01\n",
       "             ...    \n",
       "980529    2015-12-31\n",
       "980530    2015-12-31\n",
       "980531    2015-12-31\n",
       "980532    2015-12-31\n",
       "980533    2015-12-31\n",
       "980534    2015-12-31\n",
       "980535    2015-12-31\n",
       "980536    2015-12-31\n",
       "980537    2015-12-31\n",
       "980538    2015-12-31\n",
       "980539    2015-12-31\n",
       "980540    2015-12-31\n",
       "980541    2015-12-31\n",
       "980542    2015-12-31\n",
       "980543    2015-12-31\n",
       "980544    2015-12-31\n",
       "980545    2015-12-31\n",
       "980546    2015-12-31\n",
       "980547    2015-12-31\n",
       "980548    2015-12-31\n",
       "980549    2015-12-31\n",
       "980550    2015-12-31\n",
       "980551    2015-12-31\n",
       "980552    2015-12-31\n",
       "980553    2015-12-31\n",
       "980554    2015-12-31\n",
       "980556    2015-12-31\n",
       "980558    2015-12-31\n",
       "980559    2015-12-31\n",
       "980560    2015-12-31\n",
       "Name: time, Length: 908857, dtype: object"
      ]
     },
     "execution_count": 75,
     "metadata": {},
     "output_type": "execute_result"
    }
   ],
   "source": [
    "trainData['time']"
   ]
  },
  {
   "cell_type": "code",
   "execution_count": 76,
   "metadata": {},
   "outputs": [
    {
     "data": {
      "text/plain": [
       "0         2011-01-01\n",
       "1         2011-01-01\n",
       "2         2011-01-01\n",
       "3         2011-01-01\n",
       "4         2011-01-01\n",
       "5         2011-01-01\n",
       "6         2011-01-01\n",
       "8         2011-01-01\n",
       "9         2011-01-01\n",
       "10        2011-01-01\n",
       "11        2011-01-01\n",
       "12        2011-01-01\n",
       "14        2011-01-01\n",
       "15        2011-01-01\n",
       "17        2011-01-01\n",
       "18        2011-01-01\n",
       "19        2011-01-01\n",
       "20        2011-01-01\n",
       "21        2011-01-01\n",
       "22        2011-01-01\n",
       "23        2011-01-01\n",
       "24        2011-01-01\n",
       "25        2011-01-01\n",
       "26        2011-01-01\n",
       "27        2011-01-01\n",
       "28        2011-01-01\n",
       "29        2011-01-01\n",
       "30        2011-01-01\n",
       "31        2011-01-01\n",
       "32        2011-01-01\n",
       "             ...    \n",
       "980529    2015-12-31\n",
       "980530    2015-12-31\n",
       "980531    2015-12-31\n",
       "980532    2015-12-31\n",
       "980533    2015-12-31\n",
       "980534    2015-12-31\n",
       "980535    2015-12-31\n",
       "980536    2015-12-31\n",
       "980537    2015-12-31\n",
       "980538    2015-12-31\n",
       "980539    2015-12-31\n",
       "980540    2015-12-31\n",
       "980541    2015-12-31\n",
       "980542    2015-12-31\n",
       "980543    2015-12-31\n",
       "980544    2015-12-31\n",
       "980545    2015-12-31\n",
       "980546    2015-12-31\n",
       "980547    2015-12-31\n",
       "980548    2015-12-31\n",
       "980549    2015-12-31\n",
       "980550    2015-12-31\n",
       "980551    2015-12-31\n",
       "980552    2015-12-31\n",
       "980553    2015-12-31\n",
       "980554    2015-12-31\n",
       "980556    2015-12-31\n",
       "980558    2015-12-31\n",
       "980559    2015-12-31\n",
       "980560    2015-12-31\n",
       "Name: time, Length: 908857, dtype: object"
      ]
     },
     "execution_count": 76,
     "metadata": {},
     "output_type": "execute_result"
    }
   ],
   "source": [
    "trainData['time']"
   ]
  },
  {
   "cell_type": "code",
   "execution_count": 77,
   "metadata": {},
   "outputs": [],
   "source": [
    "times = trainData['time']"
   ]
  },
  {
   "cell_type": "code",
   "execution_count": 78,
   "metadata": {},
   "outputs": [
    {
     "data": {
      "text/plain": [
       "0         2011-01-01\n",
       "1         2011-01-01\n",
       "2         2011-01-01\n",
       "3         2011-01-01\n",
       "4         2011-01-01\n",
       "5         2011-01-01\n",
       "6         2011-01-01\n",
       "8         2011-01-01\n",
       "9         2011-01-01\n",
       "10        2011-01-01\n",
       "11        2011-01-01\n",
       "12        2011-01-01\n",
       "14        2011-01-01\n",
       "15        2011-01-01\n",
       "17        2011-01-01\n",
       "18        2011-01-01\n",
       "19        2011-01-01\n",
       "20        2011-01-01\n",
       "21        2011-01-01\n",
       "22        2011-01-01\n",
       "23        2011-01-01\n",
       "24        2011-01-01\n",
       "25        2011-01-01\n",
       "26        2011-01-01\n",
       "27        2011-01-01\n",
       "28        2011-01-01\n",
       "29        2011-01-01\n",
       "30        2011-01-01\n",
       "31        2011-01-01\n",
       "32        2011-01-01\n",
       "             ...    \n",
       "980529    2015-12-31\n",
       "980530    2015-12-31\n",
       "980531    2015-12-31\n",
       "980532    2015-12-31\n",
       "980533    2015-12-31\n",
       "980534    2015-12-31\n",
       "980535    2015-12-31\n",
       "980536    2015-12-31\n",
       "980537    2015-12-31\n",
       "980538    2015-12-31\n",
       "980539    2015-12-31\n",
       "980540    2015-12-31\n",
       "980541    2015-12-31\n",
       "980542    2015-12-31\n",
       "980543    2015-12-31\n",
       "980544    2015-12-31\n",
       "980545    2015-12-31\n",
       "980546    2015-12-31\n",
       "980547    2015-12-31\n",
       "980548    2015-12-31\n",
       "980549    2015-12-31\n",
       "980550    2015-12-31\n",
       "980551    2015-12-31\n",
       "980552    2015-12-31\n",
       "980553    2015-12-31\n",
       "980554    2015-12-31\n",
       "980556    2015-12-31\n",
       "980558    2015-12-31\n",
       "980559    2015-12-31\n",
       "980560    2015-12-31\n",
       "Name: time, Length: 908857, dtype: object"
      ]
     },
     "execution_count": 78,
     "metadata": {},
     "output_type": "execute_result"
    }
   ],
   "source": [
    "times"
   ]
  },
  {
   "cell_type": "code",
   "execution_count": 79,
   "metadata": {},
   "outputs": [
    {
     "data": {
      "text/html": [
       "<div>\n",
       "<style scoped>\n",
       "    .dataframe tbody tr th:only-of-type {\n",
       "        vertical-align: middle;\n",
       "    }\n",
       "\n",
       "    .dataframe tbody tr th {\n",
       "        vertical-align: top;\n",
       "    }\n",
       "\n",
       "    .dataframe thead th {\n",
       "        text-align: right;\n",
       "    }\n",
       "</style>\n",
       "<table border=\"1\" class=\"dataframe\">\n",
       "  <thead>\n",
       "    <tr style=\"text-align: right;\">\n",
       "      <th></th>\n",
       "      <th>Unnamed: 0</th>\n",
       "      <th>t2m_obs</th>\n",
       "      <th>time</th>\n",
       "      <th>station</th>\n",
       "      <th>t2m_fc_mean</th>\n",
       "      <th>orog</th>\n",
       "      <th>station_alt</th>\n",
       "      <th>station_lat</th>\n",
       "      <th>station_lon</th>\n",
       "      <th>u_pl500_fc_mean</th>\n",
       "      <th>...</th>\n",
       "      <th>sp_fc_mean</th>\n",
       "      <th>tcc_fc_mean</th>\n",
       "      <th>sshf_fc_mean</th>\n",
       "      <th>slhf_fc_mean</th>\n",
       "      <th>u10_fc_mean</th>\n",
       "      <th>v10_fc_mean</th>\n",
       "      <th>ssr_fc_mean</th>\n",
       "      <th>str_fc_mean</th>\n",
       "      <th>d2m_fc_mean</th>\n",
       "      <th>sm_fc_mean</th>\n",
       "    </tr>\n",
       "  </thead>\n",
       "  <tbody>\n",
       "    <tr>\n",
       "      <th>0</th>\n",
       "      <td>0</td>\n",
       "      <td>1.2</td>\n",
       "      <td>2011-01-01</td>\n",
       "      <td>3</td>\n",
       "      <td>-0.022290</td>\n",
       "      <td>107.439460</td>\n",
       "      <td>202.0</td>\n",
       "      <td>50.7827</td>\n",
       "      <td>6.0941</td>\n",
       "      <td>4.760467</td>\n",
       "      <td>...</td>\n",
       "      <td>101379.51</td>\n",
       "      <td>98.056010</td>\n",
       "      <td>634981.400</td>\n",
       "      <td>3.964501e+04</td>\n",
       "      <td>2.208909</td>\n",
       "      <td>0.755302</td>\n",
       "      <td>2433034.8</td>\n",
       "      <td>-3513225.0</td>\n",
       "      <td>273.57892</td>\n",
       "      <td>374.63348</td>\n",
       "    </tr>\n",
       "    <tr>\n",
       "      <th>1</th>\n",
       "      <td>1</td>\n",
       "      <td>1.6</td>\n",
       "      <td>2011-01-01</td>\n",
       "      <td>44</td>\n",
       "      <td>2.086415</td>\n",
       "      <td>19.397774</td>\n",
       "      <td>44.0</td>\n",
       "      <td>52.9335</td>\n",
       "      <td>8.2370</td>\n",
       "      <td>14.442179</td>\n",
       "      <td>...</td>\n",
       "      <td>101709.04</td>\n",
       "      <td>98.741800</td>\n",
       "      <td>1592483.900</td>\n",
       "      <td>3.706386e+05</td>\n",
       "      <td>6.223993</td>\n",
       "      <td>0.800821</td>\n",
       "      <td>2427059.2</td>\n",
       "      <td>-1702554.9</td>\n",
       "      <td>275.06873</td>\n",
       "      <td>388.60350</td>\n",
       "    </tr>\n",
       "    <tr>\n",
       "      <th>2</th>\n",
       "      <td>2</td>\n",
       "      <td>-6.3</td>\n",
       "      <td>2011-01-01</td>\n",
       "      <td>71</td>\n",
       "      <td>-6.609096</td>\n",
       "      <td>604.885000</td>\n",
       "      <td>759.0</td>\n",
       "      <td>48.2156</td>\n",
       "      <td>8.9784</td>\n",
       "      <td>0.254339</td>\n",
       "      <td>...</td>\n",
       "      <td>94432.85</td>\n",
       "      <td>91.602340</td>\n",
       "      <td>-1416809.800</td>\n",
       "      <td>-2.393660e+05</td>\n",
       "      <td>-0.394419</td>\n",
       "      <td>-0.950840</td>\n",
       "      <td>4320586.0</td>\n",
       "      <td>-4435227.5</td>\n",
       "      <td>265.47473</td>\n",
       "      <td>437.02300</td>\n",
       "    </tr>\n",
       "    <tr>\n",
       "      <th>3</th>\n",
       "      <td>3</td>\n",
       "      <td>-3.0</td>\n",
       "      <td>2011-01-01</td>\n",
       "      <td>73</td>\n",
       "      <td>-5.071753</td>\n",
       "      <td>461.441800</td>\n",
       "      <td>340.0</td>\n",
       "      <td>48.6159</td>\n",
       "      <td>13.0506</td>\n",
       "      <td>2.489346</td>\n",
       "      <td>...</td>\n",
       "      <td>97368.55</td>\n",
       "      <td>91.139370</td>\n",
       "      <td>48696.496</td>\n",
       "      <td>-5.706034e+05</td>\n",
       "      <td>1.923471</td>\n",
       "      <td>0.336067</td>\n",
       "      <td>5658946.5</td>\n",
       "      <td>-6691302.0</td>\n",
       "      <td>267.49640</td>\n",
       "      <td>366.52255</td>\n",
       "    </tr>\n",
       "    <tr>\n",
       "      <th>4</th>\n",
       "      <td>4</td>\n",
       "      <td>0.5</td>\n",
       "      <td>2011-01-01</td>\n",
       "      <td>78</td>\n",
       "      <td>1.743580</td>\n",
       "      <td>47.632523</td>\n",
       "      <td>65.0</td>\n",
       "      <td>52.4853</td>\n",
       "      <td>7.9126</td>\n",
       "      <td>11.600490</td>\n",
       "      <td>...</td>\n",
       "      <td>101419.82</td>\n",
       "      <td>99.178986</td>\n",
       "      <td>1435826.900</td>\n",
       "      <td>6.162288e+05</td>\n",
       "      <td>4.472726</td>\n",
       "      <td>0.673820</td>\n",
       "      <td>2416039.5</td>\n",
       "      <td>-1872194.9</td>\n",
       "      <td>274.56433</td>\n",
       "      <td>263.73572</td>\n",
       "    </tr>\n",
       "    <tr>\n",
       "      <th>5</th>\n",
       "      <td>5</td>\n",
       "      <td>-2.0</td>\n",
       "      <td>2011-01-01</td>\n",
       "      <td>91</td>\n",
       "      <td>-1.646765</td>\n",
       "      <td>348.869900</td>\n",
       "      <td>300.0</td>\n",
       "      <td>50.7446</td>\n",
       "      <td>9.3450</td>\n",
       "      <td>4.736032</td>\n",
       "      <td>...</td>\n",
       "      <td>97728.27</td>\n",
       "      <td>99.158590</td>\n",
       "      <td>-437949.380</td>\n",
       "      <td>-1.315032e+05</td>\n",
       "      <td>2.346411</td>\n",
       "      <td>1.155579</td>\n",
       "      <td>2039684.1</td>\n",
       "      <td>-1838326.1</td>\n",
       "      <td>269.76184</td>\n",
       "      <td>373.94714</td>\n",
       "    </tr>\n",
       "    <tr>\n",
       "      <th>6</th>\n",
       "      <td>6</td>\n",
       "      <td>3.4</td>\n",
       "      <td>2011-01-01</td>\n",
       "      <td>102</td>\n",
       "      <td>3.768420</td>\n",
       "      <td>-0.193003</td>\n",
       "      <td>32.0</td>\n",
       "      <td>53.8617</td>\n",
       "      <td>8.1266</td>\n",
       "      <td>21.955555</td>\n",
       "      <td>...</td>\n",
       "      <td>101625.16</td>\n",
       "      <td>98.139130</td>\n",
       "      <td>459276.160</td>\n",
       "      <td>-8.183858e+05</td>\n",
       "      <td>12.632340</td>\n",
       "      <td>-0.445674</td>\n",
       "      <td>2508306.2</td>\n",
       "      <td>-3847206.0</td>\n",
       "      <td>276.19350</td>\n",
       "      <td>NaN</td>\n",
       "    </tr>\n",
       "    <tr>\n",
       "      <th>8</th>\n",
       "      <td>8</td>\n",
       "      <td>-1.5</td>\n",
       "      <td>2011-01-01</td>\n",
       "      <td>131</td>\n",
       "      <td>-0.379339</td>\n",
       "      <td>296.839200</td>\n",
       "      <td>296.0</td>\n",
       "      <td>51.0881</td>\n",
       "      <td>12.9326</td>\n",
       "      <td>8.423413</td>\n",
       "      <td>...</td>\n",
       "      <td>98477.74</td>\n",
       "      <td>85.506300</td>\n",
       "      <td>3846844.200</td>\n",
       "      <td>2.003674e+05</td>\n",
       "      <td>4.465709</td>\n",
       "      <td>1.232024</td>\n",
       "      <td>3020785.2</td>\n",
       "      <td>-5267415.0</td>\n",
       "      <td>271.58180</td>\n",
       "      <td>363.70914</td>\n",
       "    </tr>\n",
       "    <tr>\n",
       "      <th>9</th>\n",
       "      <td>9</td>\n",
       "      <td>-1.7</td>\n",
       "      <td>2011-01-01</td>\n",
       "      <td>142</td>\n",
       "      <td>-5.208958</td>\n",
       "      <td>461.575300</td>\n",
       "      <td>510.0</td>\n",
       "      <td>48.4060</td>\n",
       "      <td>11.3117</td>\n",
       "      <td>1.268854</td>\n",
       "      <td>...</td>\n",
       "      <td>96778.49</td>\n",
       "      <td>92.215470</td>\n",
       "      <td>-768286.300</td>\n",
       "      <td>-6.913277e+05</td>\n",
       "      <td>1.684356</td>\n",
       "      <td>0.762767</td>\n",
       "      <td>5720165.0</td>\n",
       "      <td>-6124677.0</td>\n",
       "      <td>267.60098</td>\n",
       "      <td>371.40472</td>\n",
       "    </tr>\n",
       "    <tr>\n",
       "      <th>10</th>\n",
       "      <td>10</td>\n",
       "      <td>-1.5</td>\n",
       "      <td>2011-01-01</td>\n",
       "      <td>150</td>\n",
       "      <td>-2.749108</td>\n",
       "      <td>246.744230</td>\n",
       "      <td>215.0</td>\n",
       "      <td>49.7273</td>\n",
       "      <td>8.1164</td>\n",
       "      <td>1.735267</td>\n",
       "      <td>...</td>\n",
       "      <td>99352.55</td>\n",
       "      <td>89.482086</td>\n",
       "      <td>-591442.100</td>\n",
       "      <td>-4.780380e+05</td>\n",
       "      <td>1.117148</td>\n",
       "      <td>0.089691</td>\n",
       "      <td>2945057.5</td>\n",
       "      <td>-3159958.0</td>\n",
       "      <td>268.67880</td>\n",
       "      <td>371.05695</td>\n",
       "    </tr>\n",
       "    <tr>\n",
       "      <th>11</th>\n",
       "      <td>11</td>\n",
       "      <td>-2.9</td>\n",
       "      <td>2011-01-01</td>\n",
       "      <td>151</td>\n",
       "      <td>-3.666374</td>\n",
       "      <td>481.332950</td>\n",
       "      <td>383.0</td>\n",
       "      <td>49.4691</td>\n",
       "      <td>11.8546</td>\n",
       "      <td>3.691315</td>\n",
       "      <td>...</td>\n",
       "      <td>96601.88</td>\n",
       "      <td>96.489470</td>\n",
       "      <td>31768.310</td>\n",
       "      <td>-2.245069e+05</td>\n",
       "      <td>2.340694</td>\n",
       "      <td>0.422939</td>\n",
       "      <td>4117999.8</td>\n",
       "      <td>-4119922.2</td>\n",
       "      <td>268.83572</td>\n",
       "      <td>267.61380</td>\n",
       "    </tr>\n",
       "    <tr>\n",
       "      <th>12</th>\n",
       "      <td>12</td>\n",
       "      <td>-1.3</td>\n",
       "      <td>2011-01-01</td>\n",
       "      <td>154</td>\n",
       "      <td>-4.632233</td>\n",
       "      <td>627.512800</td>\n",
       "      <td>515.0</td>\n",
       "      <td>48.0197</td>\n",
       "      <td>12.2924</td>\n",
       "      <td>1.098634</td>\n",
       "      <td>...</td>\n",
       "      <td>95701.18</td>\n",
       "      <td>31.990782</td>\n",
       "      <td>-1140643.400</td>\n",
       "      <td>-6.286271e+05</td>\n",
       "      <td>0.647302</td>\n",
       "      <td>0.594112</td>\n",
       "      <td>7006553.5</td>\n",
       "      <td>-8730724.0</td>\n",
       "      <td>267.20740</td>\n",
       "      <td>366.80078</td>\n",
       "    </tr>\n",
       "    <tr>\n",
       "      <th>14</th>\n",
       "      <td>14</td>\n",
       "      <td>1.4</td>\n",
       "      <td>2011-01-01</td>\n",
       "      <td>164</td>\n",
       "      <td>0.545553</td>\n",
       "      <td>49.267868</td>\n",
       "      <td>54.0</td>\n",
       "      <td>53.0316</td>\n",
       "      <td>13.9907</td>\n",
       "      <td>21.975270</td>\n",
       "      <td>...</td>\n",
       "      <td>100747.50</td>\n",
       "      <td>94.984840</td>\n",
       "      <td>1895831.000</td>\n",
       "      <td>-5.760659e+03</td>\n",
       "      <td>7.602692</td>\n",
       "      <td>1.807731</td>\n",
       "      <td>1926055.5</td>\n",
       "      <td>-2842830.5</td>\n",
       "      <td>272.38657</td>\n",
       "      <td>370.36288</td>\n",
       "    </tr>\n",
       "    <tr>\n",
       "      <th>15</th>\n",
       "      <td>15</td>\n",
       "      <td>1.9</td>\n",
       "      <td>2011-01-01</td>\n",
       "      <td>167</td>\n",
       "      <td>1.147215</td>\n",
       "      <td>16.193830</td>\n",
       "      <td>9.0</td>\n",
       "      <td>53.8412</td>\n",
       "      <td>13.6846</td>\n",
       "      <td>30.051037</td>\n",
       "      <td>...</td>\n",
       "      <td>100880.49</td>\n",
       "      <td>99.281280</td>\n",
       "      <td>3396681.000</td>\n",
       "      <td>3.039430e+05</td>\n",
       "      <td>9.117790</td>\n",
       "      <td>1.668495</td>\n",
       "      <td>2444181.5</td>\n",
       "      <td>-4026995.5</td>\n",
       "      <td>273.19153</td>\n",
       "      <td>356.58203</td>\n",
       "    </tr>\n",
       "    <tr>\n",
       "      <th>17</th>\n",
       "      <td>17</td>\n",
       "      <td>1.3</td>\n",
       "      <td>2011-01-01</td>\n",
       "      <td>183</td>\n",
       "      <td>2.085754</td>\n",
       "      <td>1.442342</td>\n",
       "      <td>42.0</td>\n",
       "      <td>54.6792</td>\n",
       "      <td>13.4343</td>\n",
       "      <td>34.556347</td>\n",
       "      <td>...</td>\n",
       "      <td>100764.10</td>\n",
       "      <td>99.930940</td>\n",
       "      <td>-2420983.500</td>\n",
       "      <td>-3.402027e+06</td>\n",
       "      <td>14.334416</td>\n",
       "      <td>2.180772</td>\n",
       "      <td>2988495.0</td>\n",
       "      <td>-6553825.5</td>\n",
       "      <td>273.91214</td>\n",
       "      <td>NaN</td>\n",
       "    </tr>\n",
       "    <tr>\n",
       "      <th>18</th>\n",
       "      <td>18</td>\n",
       "      <td>-1.9</td>\n",
       "      <td>2011-01-01</td>\n",
       "      <td>191</td>\n",
       "      <td>-3.162526</td>\n",
       "      <td>326.776060</td>\n",
       "      <td>220.0</td>\n",
       "      <td>49.9695</td>\n",
       "      <td>9.9113</td>\n",
       "      <td>3.571361</td>\n",
       "      <td>...</td>\n",
       "      <td>98510.83</td>\n",
       "      <td>97.016770</td>\n",
       "      <td>-585556.750</td>\n",
       "      <td>-5.884342e+05</td>\n",
       "      <td>2.257599</td>\n",
       "      <td>0.478354</td>\n",
       "      <td>2615301.0</td>\n",
       "      <td>-2174419.2</td>\n",
       "      <td>269.36450</td>\n",
       "      <td>369.23312</td>\n",
       "    </tr>\n",
       "    <tr>\n",
       "      <th>19</th>\n",
       "      <td>19</td>\n",
       "      <td>-0.6</td>\n",
       "      <td>2011-01-01</td>\n",
       "      <td>198</td>\n",
       "      <td>0.096329</td>\n",
       "      <td>186.770420</td>\n",
       "      <td>164.0</td>\n",
       "      <td>51.3745</td>\n",
       "      <td>11.2920</td>\n",
       "      <td>9.660959</td>\n",
       "      <td>...</td>\n",
       "      <td>99610.73</td>\n",
       "      <td>88.301476</td>\n",
       "      <td>2647537.000</td>\n",
       "      <td>1.963725e+05</td>\n",
       "      <td>4.748913</td>\n",
       "      <td>0.661212</td>\n",
       "      <td>2720632.8</td>\n",
       "      <td>-4253402.5</td>\n",
       "      <td>271.96410</td>\n",
       "      <td>363.89080</td>\n",
       "    </tr>\n",
       "    <tr>\n",
       "      <th>20</th>\n",
       "      <td>20</td>\n",
       "      <td>-2.4</td>\n",
       "      <td>2011-01-01</td>\n",
       "      <td>217</td>\n",
       "      <td>-7.264445</td>\n",
       "      <td>645.201300</td>\n",
       "      <td>672.0</td>\n",
       "      <td>47.8774</td>\n",
       "      <td>11.3642</td>\n",
       "      <td>0.560958</td>\n",
       "      <td>...</td>\n",
       "      <td>95030.82</td>\n",
       "      <td>59.822290</td>\n",
       "      <td>-989143.700</td>\n",
       "      <td>-5.779598e+05</td>\n",
       "      <td>0.612731</td>\n",
       "      <td>0.961691</td>\n",
       "      <td>6629413.0</td>\n",
       "      <td>-8192329.0</td>\n",
       "      <td>265.41950</td>\n",
       "      <td>370.10070</td>\n",
       "    </tr>\n",
       "    <tr>\n",
       "      <th>21</th>\n",
       "      <td>21</td>\n",
       "      <td>-1.1</td>\n",
       "      <td>2011-01-01</td>\n",
       "      <td>222</td>\n",
       "      <td>-2.561441</td>\n",
       "      <td>521.182000</td>\n",
       "      <td>387.0</td>\n",
       "      <td>50.5907</td>\n",
       "      <td>12.7140</td>\n",
       "      <td>6.583127</td>\n",
       "      <td>...</td>\n",
       "      <td>95264.27</td>\n",
       "      <td>76.445090</td>\n",
       "      <td>2962243.200</td>\n",
       "      <td>9.482943e+05</td>\n",
       "      <td>3.468259</td>\n",
       "      <td>0.994709</td>\n",
       "      <td>2999605.8</td>\n",
       "      <td>-4929755.5</td>\n",
       "      <td>269.34207</td>\n",
       "      <td>361.13312</td>\n",
       "    </tr>\n",
       "    <tr>\n",
       "      <th>22</th>\n",
       "      <td>22</td>\n",
       "      <td>-1.4</td>\n",
       "      <td>2011-01-01</td>\n",
       "      <td>232</td>\n",
       "      <td>-5.365300</td>\n",
       "      <td>483.201900</td>\n",
       "      <td>461.0</td>\n",
       "      <td>48.4254</td>\n",
       "      <td>10.9420</td>\n",
       "      <td>0.996702</td>\n",
       "      <td>...</td>\n",
       "      <td>96699.89</td>\n",
       "      <td>92.059230</td>\n",
       "      <td>-1994298.400</td>\n",
       "      <td>-7.919316e+05</td>\n",
       "      <td>1.433940</td>\n",
       "      <td>0.796884</td>\n",
       "      <td>5304722.0</td>\n",
       "      <td>-5856875.5</td>\n",
       "      <td>267.72623</td>\n",
       "      <td>367.82645</td>\n",
       "    </tr>\n",
       "    <tr>\n",
       "      <th>23</th>\n",
       "      <td>23</td>\n",
       "      <td>-0.8</td>\n",
       "      <td>2011-01-01</td>\n",
       "      <td>257</td>\n",
       "      <td>-5.598772</td>\n",
       "      <td>401.935200</td>\n",
       "      <td>240.0</td>\n",
       "      <td>48.7270</td>\n",
       "      <td>8.2458</td>\n",
       "      <td>0.686966</td>\n",
       "      <td>...</td>\n",
       "      <td>98412.26</td>\n",
       "      <td>45.977272</td>\n",
       "      <td>-189437.220</td>\n",
       "      <td>-1.874320e+05</td>\n",
       "      <td>-1.693292</td>\n",
       "      <td>0.753670</td>\n",
       "      <td>3948562.2</td>\n",
       "      <td>-4737333.5</td>\n",
       "      <td>265.18985</td>\n",
       "      <td>377.65253</td>\n",
       "    </tr>\n",
       "    <tr>\n",
       "      <th>24</th>\n",
       "      <td>24</td>\n",
       "      <td>-0.7</td>\n",
       "      <td>2011-01-01</td>\n",
       "      <td>259</td>\n",
       "      <td>-5.435004</td>\n",
       "      <td>434.875760</td>\n",
       "      <td>273.0</td>\n",
       "      <td>47.8064</td>\n",
       "      <td>7.6387</td>\n",
       "      <td>-0.047120</td>\n",
       "      <td>...</td>\n",
       "      <td>97657.46</td>\n",
       "      <td>77.110825</td>\n",
       "      <td>-1197756.100</td>\n",
       "      <td>-7.452592e+05</td>\n",
       "      <td>-0.292189</td>\n",
       "      <td>-0.195556</td>\n",
       "      <td>4975002.0</td>\n",
       "      <td>-5436127.5</td>\n",
       "      <td>268.03943</td>\n",
       "      <td>401.77400</td>\n",
       "    </tr>\n",
       "    <tr>\n",
       "      <th>25</th>\n",
       "      <td>25</td>\n",
       "      <td>-2.6</td>\n",
       "      <td>2011-01-01</td>\n",
       "      <td>282</td>\n",
       "      <td>-3.178556</td>\n",
       "      <td>400.833860</td>\n",
       "      <td>240.0</td>\n",
       "      <td>49.8742</td>\n",
       "      <td>10.9206</td>\n",
       "      <td>4.188576</td>\n",
       "      <td>...</td>\n",
       "      <td>97805.08</td>\n",
       "      <td>98.963090</td>\n",
       "      <td>-640486.400</td>\n",
       "      <td>-6.659941e+05</td>\n",
       "      <td>2.107362</td>\n",
       "      <td>1.140932</td>\n",
       "      <td>2978810.0</td>\n",
       "      <td>-2540446.0</td>\n",
       "      <td>269.22100</td>\n",
       "      <td>275.74500</td>\n",
       "    </tr>\n",
       "    <tr>\n",
       "      <th>26</th>\n",
       "      <td>26</td>\n",
       "      <td>2.1</td>\n",
       "      <td>2011-01-01</td>\n",
       "      <td>294</td>\n",
       "      <td>0.893186</td>\n",
       "      <td>75.700400</td>\n",
       "      <td>110.0</td>\n",
       "      <td>52.3199</td>\n",
       "      <td>9.4300</td>\n",
       "      <td>13.187256</td>\n",
       "      <td>...</td>\n",
       "      <td>101243.09</td>\n",
       "      <td>98.105670</td>\n",
       "      <td>1664626.200</td>\n",
       "      <td>5.505562e+05</td>\n",
       "      <td>5.348842</td>\n",
       "      <td>0.872017</td>\n",
       "      <td>2209140.2</td>\n",
       "      <td>-2161765.0</td>\n",
       "      <td>273.64320</td>\n",
       "      <td>336.21414</td>\n",
       "    </tr>\n",
       "    <tr>\n",
       "      <th>27</th>\n",
       "      <td>27</td>\n",
       "      <td>2.4</td>\n",
       "      <td>2011-01-01</td>\n",
       "      <td>298</td>\n",
       "      <td>1.874417</td>\n",
       "      <td>2.376826</td>\n",
       "      <td>3.0</td>\n",
       "      <td>54.3406</td>\n",
       "      <td>12.7108</td>\n",
       "      <td>33.451183</td>\n",
       "      <td>...</td>\n",
       "      <td>100888.42</td>\n",
       "      <td>99.958435</td>\n",
       "      <td>-1766827.900</td>\n",
       "      <td>-2.770001e+06</td>\n",
       "      <td>14.267757</td>\n",
       "      <td>2.016071</td>\n",
       "      <td>2796635.2</td>\n",
       "      <td>-6115476.5</td>\n",
       "      <td>274.17923</td>\n",
       "      <td>NaN</td>\n",
       "    </tr>\n",
       "    <tr>\n",
       "      <th>28</th>\n",
       "      <td>28</td>\n",
       "      <td>1.3</td>\n",
       "      <td>2011-01-01</td>\n",
       "      <td>303</td>\n",
       "      <td>0.474331</td>\n",
       "      <td>65.320950</td>\n",
       "      <td>55.0</td>\n",
       "      <td>52.0614</td>\n",
       "      <td>13.4996</td>\n",
       "      <td>14.132046</td>\n",
       "      <td>...</td>\n",
       "      <td>100931.14</td>\n",
       "      <td>87.653030</td>\n",
       "      <td>2030876.500</td>\n",
       "      <td>5.845036e+04</td>\n",
       "      <td>5.264215</td>\n",
       "      <td>1.145241</td>\n",
       "      <td>2229936.8</td>\n",
       "      <td>-2687859.2</td>\n",
       "      <td>272.16300</td>\n",
       "      <td>367.40280</td>\n",
       "    </tr>\n",
       "    <tr>\n",
       "      <th>29</th>\n",
       "      <td>29</td>\n",
       "      <td>0.1</td>\n",
       "      <td>2011-01-01</td>\n",
       "      <td>314</td>\n",
       "      <td>-0.606885</td>\n",
       "      <td>300.643900</td>\n",
       "      <td>232.0</td>\n",
       "      <td>51.1604</td>\n",
       "      <td>14.5042</td>\n",
       "      <td>9.543622</td>\n",
       "      <td>...</td>\n",
       "      <td>98059.64</td>\n",
       "      <td>85.265240</td>\n",
       "      <td>2275243.800</td>\n",
       "      <td>2.853812e+05</td>\n",
       "      <td>4.259081</td>\n",
       "      <td>0.664564</td>\n",
       "      <td>2249160.2</td>\n",
       "      <td>-3327199.2</td>\n",
       "      <td>271.02835</td>\n",
       "      <td>361.93237</td>\n",
       "    </tr>\n",
       "    <tr>\n",
       "      <th>30</th>\n",
       "      <td>30</td>\n",
       "      <td>-3.9</td>\n",
       "      <td>2011-01-01</td>\n",
       "      <td>320</td>\n",
       "      <td>-3.679429</td>\n",
       "      <td>466.447940</td>\n",
       "      <td>350.0</td>\n",
       "      <td>49.9667</td>\n",
       "      <td>11.5197</td>\n",
       "      <td>4.536541</td>\n",
       "      <td>...</td>\n",
       "      <td>96474.23</td>\n",
       "      <td>99.640114</td>\n",
       "      <td>-221648.280</td>\n",
       "      <td>-1.560573e+05</td>\n",
       "      <td>2.420070</td>\n",
       "      <td>1.039218</td>\n",
       "      <td>3149270.8</td>\n",
       "      <td>-2770073.0</td>\n",
       "      <td>269.02160</td>\n",
       "      <td>306.40590</td>\n",
       "    </tr>\n",
       "    <tr>\n",
       "      <th>31</th>\n",
       "      <td>31</td>\n",
       "      <td>0.6</td>\n",
       "      <td>2011-01-01</td>\n",
       "      <td>326</td>\n",
       "      <td>0.950570</td>\n",
       "      <td>239.268370</td>\n",
       "      <td>120.0</td>\n",
       "      <td>51.7204</td>\n",
       "      <td>8.0577</td>\n",
       "      <td>7.316463</td>\n",
       "      <td>...</td>\n",
       "      <td>99554.64</td>\n",
       "      <td>99.862335</td>\n",
       "      <td>1152161.200</td>\n",
       "      <td>2.526911e+05</td>\n",
       "      <td>3.940972</td>\n",
       "      <td>0.974937</td>\n",
       "      <td>1984478.1</td>\n",
       "      <td>-2911473.2</td>\n",
       "      <td>273.63333</td>\n",
       "      <td>374.35815</td>\n",
       "    </tr>\n",
       "    <tr>\n",
       "      <th>32</th>\n",
       "      <td>32</td>\n",
       "      <td>-2.8</td>\n",
       "      <td>2011-01-01</td>\n",
       "      <td>330</td>\n",
       "      <td>-3.816793</td>\n",
       "      <td>254.086610</td>\n",
       "      <td>450.0</td>\n",
       "      <td>49.5617</td>\n",
       "      <td>8.9673</td>\n",
       "      <td>1.936730</td>\n",
       "      <td>...</td>\n",
       "      <td>99095.02</td>\n",
       "      <td>97.958350</td>\n",
       "      <td>-435133.280</td>\n",
       "      <td>-4.433018e+05</td>\n",
       "      <td>0.782253</td>\n",
       "      <td>0.930588</td>\n",
       "      <td>3291845.0</td>\n",
       "      <td>-3397974.0</td>\n",
       "      <td>268.54712</td>\n",
       "      <td>373.58060</td>\n",
       "    </tr>\n",
       "    <tr>\n",
       "      <th>...</th>\n",
       "      <td>...</td>\n",
       "      <td>...</td>\n",
       "      <td>...</td>\n",
       "      <td>...</td>\n",
       "      <td>...</td>\n",
       "      <td>...</td>\n",
       "      <td>...</td>\n",
       "      <td>...</td>\n",
       "      <td>...</td>\n",
       "      <td>...</td>\n",
       "      <td>...</td>\n",
       "      <td>...</td>\n",
       "      <td>...</td>\n",
       "      <td>...</td>\n",
       "      <td>...</td>\n",
       "      <td>...</td>\n",
       "      <td>...</td>\n",
       "      <td>...</td>\n",
       "      <td>...</td>\n",
       "      <td>...</td>\n",
       "      <td>...</td>\n",
       "    </tr>\n",
       "    <tr>\n",
       "      <th>501</th>\n",
       "      <td>501</td>\n",
       "      <td>1.3</td>\n",
       "      <td>2011-01-01</td>\n",
       "      <td>7367</td>\n",
       "      <td>0.425912</td>\n",
       "      <td>198.584960</td>\n",
       "      <td>144.0</td>\n",
       "      <td>51.9644</td>\n",
       "      <td>9.8072</td>\n",
       "      <td>10.957586</td>\n",
       "      <td>...</td>\n",
       "      <td>99680.16</td>\n",
       "      <td>97.115974</td>\n",
       "      <td>-69294.550</td>\n",
       "      <td>-2.730792e+05</td>\n",
       "      <td>5.656416</td>\n",
       "      <td>0.901915</td>\n",
       "      <td>2230758.5</td>\n",
       "      <td>-2288177.0</td>\n",
       "      <td>273.08548</td>\n",
       "      <td>368.87985</td>\n",
       "    </tr>\n",
       "    <tr>\n",
       "      <th>502</th>\n",
       "      <td>502</td>\n",
       "      <td>-2.6</td>\n",
       "      <td>2011-01-01</td>\n",
       "      <td>7368</td>\n",
       "      <td>-0.423147</td>\n",
       "      <td>346.567080</td>\n",
       "      <td>312.0</td>\n",
       "      <td>51.0007</td>\n",
       "      <td>10.3621</td>\n",
       "      <td>7.010738</td>\n",
       "      <td>...</td>\n",
       "      <td>98020.79</td>\n",
       "      <td>87.652020</td>\n",
       "      <td>1311254.500</td>\n",
       "      <td>3.791158e+05</td>\n",
       "      <td>4.173886</td>\n",
       "      <td>1.011768</td>\n",
       "      <td>2250787.2</td>\n",
       "      <td>-2869663.0</td>\n",
       "      <td>272.04230</td>\n",
       "      <td>361.50180</td>\n",
       "    </tr>\n",
       "    <tr>\n",
       "      <th>503</th>\n",
       "      <td>503</td>\n",
       "      <td>-2.8</td>\n",
       "      <td>2011-01-01</td>\n",
       "      <td>7369</td>\n",
       "      <td>-3.907876</td>\n",
       "      <td>449.059880</td>\n",
       "      <td>475.0</td>\n",
       "      <td>49.1623</td>\n",
       "      <td>10.3662</td>\n",
       "      <td>1.635378</td>\n",
       "      <td>...</td>\n",
       "      <td>96545.39</td>\n",
       "      <td>88.911964</td>\n",
       "      <td>-451238.750</td>\n",
       "      <td>-6.950791e+05</td>\n",
       "      <td>1.693541</td>\n",
       "      <td>0.758387</td>\n",
       "      <td>4511095.0</td>\n",
       "      <td>-4851913.0</td>\n",
       "      <td>268.34186</td>\n",
       "      <td>464.01940</td>\n",
       "    </tr>\n",
       "    <tr>\n",
       "      <th>504</th>\n",
       "      <td>504</td>\n",
       "      <td>-3.8</td>\n",
       "      <td>2011-01-01</td>\n",
       "      <td>7370</td>\n",
       "      <td>-4.307461</td>\n",
       "      <td>513.572630</td>\n",
       "      <td>499.0</td>\n",
       "      <td>49.3909</td>\n",
       "      <td>12.6838</td>\n",
       "      <td>4.110865</td>\n",
       "      <td>...</td>\n",
       "      <td>95956.44</td>\n",
       "      <td>97.925230</td>\n",
       "      <td>1133587.500</td>\n",
       "      <td>3.846209e+05</td>\n",
       "      <td>2.451625</td>\n",
       "      <td>0.767963</td>\n",
       "      <td>4054460.8</td>\n",
       "      <td>-4779443.5</td>\n",
       "      <td>268.18335</td>\n",
       "      <td>363.59595</td>\n",
       "    </tr>\n",
       "    <tr>\n",
       "      <th>505</th>\n",
       "      <td>505</td>\n",
       "      <td>2.9</td>\n",
       "      <td>2011-01-01</td>\n",
       "      <td>7373</td>\n",
       "      <td>4.394595</td>\n",
       "      <td>-1.427856</td>\n",
       "      <td>3.0</td>\n",
       "      <td>53.5984</td>\n",
       "      <td>6.7024</td>\n",
       "      <td>15.416923</td>\n",
       "      <td>...</td>\n",
       "      <td>101912.79</td>\n",
       "      <td>95.811980</td>\n",
       "      <td>-954369.750</td>\n",
       "      <td>-1.373290e+06</td>\n",
       "      <td>10.672633</td>\n",
       "      <td>-0.482593</td>\n",
       "      <td>2614734.5</td>\n",
       "      <td>-3694538.2</td>\n",
       "      <td>276.68646</td>\n",
       "      <td>NaN</td>\n",
       "    </tr>\n",
       "    <tr>\n",
       "      <th>506</th>\n",
       "      <td>506</td>\n",
       "      <td>1.0</td>\n",
       "      <td>2011-01-01</td>\n",
       "      <td>7374</td>\n",
       "      <td>2.051744</td>\n",
       "      <td>46.831535</td>\n",
       "      <td>46.0</td>\n",
       "      <td>52.0814</td>\n",
       "      <td>6.9410</td>\n",
       "      <td>8.563717</td>\n",
       "      <td>...</td>\n",
       "      <td>101644.69</td>\n",
       "      <td>99.223910</td>\n",
       "      <td>921969.600</td>\n",
       "      <td>3.585078e+05</td>\n",
       "      <td>3.866795</td>\n",
       "      <td>0.674884</td>\n",
       "      <td>2081842.8</td>\n",
       "      <td>-2130604.5</td>\n",
       "      <td>274.96286</td>\n",
       "      <td>252.10430</td>\n",
       "    </tr>\n",
       "    <tr>\n",
       "      <th>507</th>\n",
       "      <td>507</td>\n",
       "      <td>1.0</td>\n",
       "      <td>2011-01-01</td>\n",
       "      <td>7389</td>\n",
       "      <td>0.488646</td>\n",
       "      <td>50.502720</td>\n",
       "      <td>82.0</td>\n",
       "      <td>52.7461</td>\n",
       "      <td>13.8427</td>\n",
       "      <td>18.137976</td>\n",
       "      <td>...</td>\n",
       "      <td>100946.86</td>\n",
       "      <td>93.440670</td>\n",
       "      <td>1857101.200</td>\n",
       "      <td>1.907699e+05</td>\n",
       "      <td>6.840592</td>\n",
       "      <td>1.573891</td>\n",
       "      <td>1985793.8</td>\n",
       "      <td>-2322002.8</td>\n",
       "      <td>272.34137</td>\n",
       "      <td>360.06710</td>\n",
       "    </tr>\n",
       "    <tr>\n",
       "      <th>508</th>\n",
       "      <td>508</td>\n",
       "      <td>0.7</td>\n",
       "      <td>2011-01-01</td>\n",
       "      <td>7393</td>\n",
       "      <td>0.071850</td>\n",
       "      <td>145.185910</td>\n",
       "      <td>116.0</td>\n",
       "      <td>51.4493</td>\n",
       "      <td>14.2533</td>\n",
       "      <td>11.829504</td>\n",
       "      <td>...</td>\n",
       "      <td>100203.81</td>\n",
       "      <td>89.313780</td>\n",
       "      <td>2366592.500</td>\n",
       "      <td>-1.017849e+05</td>\n",
       "      <td>5.432653</td>\n",
       "      <td>1.131747</td>\n",
       "      <td>2455968.5</td>\n",
       "      <td>-3530302.5</td>\n",
       "      <td>271.98750</td>\n",
       "      <td>360.95874</td>\n",
       "    </tr>\n",
       "    <tr>\n",
       "      <th>509</th>\n",
       "      <td>509</td>\n",
       "      <td>-4.5</td>\n",
       "      <td>2011-01-01</td>\n",
       "      <td>7394</td>\n",
       "      <td>-3.881807</td>\n",
       "      <td>535.933500</td>\n",
       "      <td>622.0</td>\n",
       "      <td>50.0315</td>\n",
       "      <td>11.9745</td>\n",
       "      <td>4.923308</td>\n",
       "      <td>...</td>\n",
       "      <td>95554.83</td>\n",
       "      <td>98.347120</td>\n",
       "      <td>947029.500</td>\n",
       "      <td>4.411344e+05</td>\n",
       "      <td>2.804105</td>\n",
       "      <td>0.801761</td>\n",
       "      <td>3252116.8</td>\n",
       "      <td>-3250731.8</td>\n",
       "      <td>268.68930</td>\n",
       "      <td>354.36972</td>\n",
       "    </tr>\n",
       "    <tr>\n",
       "      <th>510</th>\n",
       "      <td>510</td>\n",
       "      <td>-3.0</td>\n",
       "      <td>2011-01-01</td>\n",
       "      <td>7395</td>\n",
       "      <td>-4.515904</td>\n",
       "      <td>428.067380</td>\n",
       "      <td>350.0</td>\n",
       "      <td>48.6596</td>\n",
       "      <td>12.5388</td>\n",
       "      <td>1.987463</td>\n",
       "      <td>...</td>\n",
       "      <td>97080.61</td>\n",
       "      <td>88.453660</td>\n",
       "      <td>-686366.560</td>\n",
       "      <td>-8.236961e+05</td>\n",
       "      <td>1.775235</td>\n",
       "      <td>0.463104</td>\n",
       "      <td>5913048.5</td>\n",
       "      <td>-6834334.0</td>\n",
       "      <td>267.84310</td>\n",
       "      <td>366.65536</td>\n",
       "    </tr>\n",
       "    <tr>\n",
       "      <th>511</th>\n",
       "      <td>511</td>\n",
       "      <td>-4.9</td>\n",
       "      <td>2011-01-01</td>\n",
       "      <td>7396</td>\n",
       "      <td>-2.673963</td>\n",
       "      <td>309.588230</td>\n",
       "      <td>743.0</td>\n",
       "      <td>50.5084</td>\n",
       "      <td>9.2247</td>\n",
       "      <td>4.454960</td>\n",
       "      <td>...</td>\n",
       "      <td>98853.36</td>\n",
       "      <td>97.198250</td>\n",
       "      <td>-503004.120</td>\n",
       "      <td>-2.415096e+05</td>\n",
       "      <td>2.039153</td>\n",
       "      <td>1.250715</td>\n",
       "      <td>1931337.2</td>\n",
       "      <td>-1938161.6</td>\n",
       "      <td>270.21152</td>\n",
       "      <td>371.18475</td>\n",
       "    </tr>\n",
       "    <tr>\n",
       "      <th>512</th>\n",
       "      <td>512</td>\n",
       "      <td>-1.5</td>\n",
       "      <td>2011-01-01</td>\n",
       "      <td>7403</td>\n",
       "      <td>-8.557275</td>\n",
       "      <td>652.143100</td>\n",
       "      <td>672.0</td>\n",
       "      <td>47.7955</td>\n",
       "      <td>10.0324</td>\n",
       "      <td>0.225032</td>\n",
       "      <td>...</td>\n",
       "      <td>94810.96</td>\n",
       "      <td>90.514590</td>\n",
       "      <td>-205764.200</td>\n",
       "      <td>-5.262788e+04</td>\n",
       "      <td>-0.755700</td>\n",
       "      <td>0.527349</td>\n",
       "      <td>4412635.0</td>\n",
       "      <td>-5889005.5</td>\n",
       "      <td>264.87112</td>\n",
       "      <td>373.28943</td>\n",
       "    </tr>\n",
       "    <tr>\n",
       "      <th>514</th>\n",
       "      <td>514</td>\n",
       "      <td>-3.1</td>\n",
       "      <td>2011-01-01</td>\n",
       "      <td>7412</td>\n",
       "      <td>-3.308950</td>\n",
       "      <td>296.438720</td>\n",
       "      <td>340.0</td>\n",
       "      <td>50.0083</td>\n",
       "      <td>9.4239</td>\n",
       "      <td>3.319382</td>\n",
       "      <td>...</td>\n",
       "      <td>98678.06</td>\n",
       "      <td>97.914510</td>\n",
       "      <td>-385424.530</td>\n",
       "      <td>-4.237656e+05</td>\n",
       "      <td>1.848345</td>\n",
       "      <td>0.700756</td>\n",
       "      <td>2293968.5</td>\n",
       "      <td>-2189748.8</td>\n",
       "      <td>269.18323</td>\n",
       "      <td>371.57288</td>\n",
       "    </tr>\n",
       "    <tr>\n",
       "      <th>515</th>\n",
       "      <td>515</td>\n",
       "      <td>-4.3</td>\n",
       "      <td>2011-01-01</td>\n",
       "      <td>7419</td>\n",
       "      <td>-1.579253</td>\n",
       "      <td>481.332950</td>\n",
       "      <td>390.0</td>\n",
       "      <td>50.6610</td>\n",
       "      <td>12.0757</td>\n",
       "      <td>6.234338</td>\n",
       "      <td>...</td>\n",
       "      <td>96113.33</td>\n",
       "      <td>81.444760</td>\n",
       "      <td>1782332.500</td>\n",
       "      <td>4.675791e+04</td>\n",
       "      <td>3.561338</td>\n",
       "      <td>1.477639</td>\n",
       "      <td>2925303.0</td>\n",
       "      <td>-4032496.2</td>\n",
       "      <td>270.05954</td>\n",
       "      <td>366.43265</td>\n",
       "    </tr>\n",
       "    <tr>\n",
       "      <th>516</th>\n",
       "      <td>516</td>\n",
       "      <td>-1.7</td>\n",
       "      <td>2011-01-01</td>\n",
       "      <td>7420</td>\n",
       "      <td>0.088728</td>\n",
       "      <td>296.271850</td>\n",
       "      <td>246.0</td>\n",
       "      <td>51.1044</td>\n",
       "      <td>11.7112</td>\n",
       "      <td>7.555974</td>\n",
       "      <td>...</td>\n",
       "      <td>98930.84</td>\n",
       "      <td>83.866610</td>\n",
       "      <td>3319823.800</td>\n",
       "      <td>8.792112e+05</td>\n",
       "      <td>4.222993</td>\n",
       "      <td>0.911401</td>\n",
       "      <td>2576029.5</td>\n",
       "      <td>-4484457.5</td>\n",
       "      <td>271.91843</td>\n",
       "      <td>358.26562</td>\n",
       "    </tr>\n",
       "    <tr>\n",
       "      <th>517</th>\n",
       "      <td>517</td>\n",
       "      <td>-1.3</td>\n",
       "      <td>2011-01-01</td>\n",
       "      <td>7424</td>\n",
       "      <td>-6.937908</td>\n",
       "      <td>636.824300</td>\n",
       "      <td>458.0</td>\n",
       "      <td>47.7724</td>\n",
       "      <td>12.9073</td>\n",
       "      <td>1.521050</td>\n",
       "      <td>...</td>\n",
       "      <td>95554.61</td>\n",
       "      <td>34.303450</td>\n",
       "      <td>-1087169.100</td>\n",
       "      <td>-6.256552e+05</td>\n",
       "      <td>0.744298</td>\n",
       "      <td>1.030973</td>\n",
       "      <td>6597688.5</td>\n",
       "      <td>-8044392.5</td>\n",
       "      <td>267.16577</td>\n",
       "      <td>368.32620</td>\n",
       "    </tr>\n",
       "    <tr>\n",
       "      <th>518</th>\n",
       "      <td>518</td>\n",
       "      <td>2.0</td>\n",
       "      <td>2011-01-01</td>\n",
       "      <td>7427</td>\n",
       "      <td>2.701204</td>\n",
       "      <td>24.070190</td>\n",
       "      <td>17.0</td>\n",
       "      <td>54.0188</td>\n",
       "      <td>9.9255</td>\n",
       "      <td>25.113466</td>\n",
       "      <td>...</td>\n",
       "      <td>101068.96</td>\n",
       "      <td>99.657680</td>\n",
       "      <td>3649306.000</td>\n",
       "      <td>7.145428e+05</td>\n",
       "      <td>7.742343</td>\n",
       "      <td>0.893935</td>\n",
       "      <td>1849889.2</td>\n",
       "      <td>-3684836.8</td>\n",
       "      <td>274.90027</td>\n",
       "      <td>284.47430</td>\n",
       "    </tr>\n",
       "    <tr>\n",
       "      <th>519</th>\n",
       "      <td>519</td>\n",
       "      <td>-4.7</td>\n",
       "      <td>2011-01-01</td>\n",
       "      <td>7428</td>\n",
       "      <td>-3.062442</td>\n",
       "      <td>436.010500</td>\n",
       "      <td>397.0</td>\n",
       "      <td>50.4167</td>\n",
       "      <td>10.8156</td>\n",
       "      <td>5.557469</td>\n",
       "      <td>...</td>\n",
       "      <td>96354.66</td>\n",
       "      <td>95.839320</td>\n",
       "      <td>1118842.900</td>\n",
       "      <td>5.474869e+05</td>\n",
       "      <td>2.477529</td>\n",
       "      <td>1.178118</td>\n",
       "      <td>2453264.8</td>\n",
       "      <td>-2901803.5</td>\n",
       "      <td>269.56150</td>\n",
       "      <td>357.42657</td>\n",
       "    </tr>\n",
       "    <tr>\n",
       "      <th>520</th>\n",
       "      <td>520</td>\n",
       "      <td>-1.9</td>\n",
       "      <td>2011-01-01</td>\n",
       "      <td>7431</td>\n",
       "      <td>-6.358032</td>\n",
       "      <td>645.201300</td>\n",
       "      <td>604.0</td>\n",
       "      <td>48.0130</td>\n",
       "      <td>11.5524</td>\n",
       "      <td>0.560958</td>\n",
       "      <td>...</td>\n",
       "      <td>95030.82</td>\n",
       "      <td>59.822290</td>\n",
       "      <td>-989143.700</td>\n",
       "      <td>-5.779598e+05</td>\n",
       "      <td>0.612731</td>\n",
       "      <td>0.961691</td>\n",
       "      <td>6629413.0</td>\n",
       "      <td>-8192329.0</td>\n",
       "      <td>265.41950</td>\n",
       "      <td>370.10070</td>\n",
       "    </tr>\n",
       "    <tr>\n",
       "      <th>521</th>\n",
       "      <td>521</td>\n",
       "      <td>0.8</td>\n",
       "      <td>2011-01-01</td>\n",
       "      <td>7432</td>\n",
       "      <td>0.690493</td>\n",
       "      <td>95.524796</td>\n",
       "      <td>72.0</td>\n",
       "      <td>52.6423</td>\n",
       "      <td>10.6627</td>\n",
       "      <td>14.345943</td>\n",
       "      <td>...</td>\n",
       "      <td>101002.20</td>\n",
       "      <td>95.913730</td>\n",
       "      <td>1693040.600</td>\n",
       "      <td>2.713991e+05</td>\n",
       "      <td>6.013248</td>\n",
       "      <td>0.830452</td>\n",
       "      <td>2402315.8</td>\n",
       "      <td>-2543505.5</td>\n",
       "      <td>273.10550</td>\n",
       "      <td>336.80610</td>\n",
       "    </tr>\n",
       "    <tr>\n",
       "      <th>522</th>\n",
       "      <td>522</td>\n",
       "      <td>0.5</td>\n",
       "      <td>2011-01-01</td>\n",
       "      <td>13670</td>\n",
       "      <td>1.367071</td>\n",
       "      <td>40.523773</td>\n",
       "      <td>25.0</td>\n",
       "      <td>51.5088</td>\n",
       "      <td>6.7018</td>\n",
       "      <td>6.361315</td>\n",
       "      <td>...</td>\n",
       "      <td>101925.46</td>\n",
       "      <td>99.970116</td>\n",
       "      <td>747625.100</td>\n",
       "      <td>1.603695e+05</td>\n",
       "      <td>2.463910</td>\n",
       "      <td>0.621952</td>\n",
       "      <td>2071682.4</td>\n",
       "      <td>-2733326.0</td>\n",
       "      <td>274.45303</td>\n",
       "      <td>374.19617</td>\n",
       "    </tr>\n",
       "    <tr>\n",
       "      <th>523</th>\n",
       "      <td>523</td>\n",
       "      <td>-1.7</td>\n",
       "      <td>2011-01-01</td>\n",
       "      <td>13674</td>\n",
       "      <td>-4.161031</td>\n",
       "      <td>254.086610</td>\n",
       "      <td>237.0</td>\n",
       "      <td>49.2942</td>\n",
       "      <td>8.9054</td>\n",
       "      <td>1.936730</td>\n",
       "      <td>...</td>\n",
       "      <td>99095.02</td>\n",
       "      <td>97.958350</td>\n",
       "      <td>-435133.280</td>\n",
       "      <td>-4.433018e+05</td>\n",
       "      <td>0.782253</td>\n",
       "      <td>0.930588</td>\n",
       "      <td>3291845.0</td>\n",
       "      <td>-3397974.0</td>\n",
       "      <td>268.54712</td>\n",
       "      <td>373.58060</td>\n",
       "    </tr>\n",
       "    <tr>\n",
       "      <th>524</th>\n",
       "      <td>524</td>\n",
       "      <td>1.0</td>\n",
       "      <td>2011-01-01</td>\n",
       "      <td>13675</td>\n",
       "      <td>0.648164</td>\n",
       "      <td>179.761800</td>\n",
       "      <td>77.0</td>\n",
       "      <td>52.0818</td>\n",
       "      <td>9.4077</td>\n",
       "      <td>10.513386</td>\n",
       "      <td>...</td>\n",
       "      <td>99824.98</td>\n",
       "      <td>98.604830</td>\n",
       "      <td>966077.800</td>\n",
       "      <td>1.928648e+05</td>\n",
       "      <td>4.913484</td>\n",
       "      <td>0.634489</td>\n",
       "      <td>2188033.2</td>\n",
       "      <td>-2131446.5</td>\n",
       "      <td>273.34840</td>\n",
       "      <td>370.63360</td>\n",
       "    </tr>\n",
       "    <tr>\n",
       "      <th>525</th>\n",
       "      <td>525</td>\n",
       "      <td>1.0</td>\n",
       "      <td>2011-01-01</td>\n",
       "      <td>13696</td>\n",
       "      <td>1.118139</td>\n",
       "      <td>160.438020</td>\n",
       "      <td>68.0</td>\n",
       "      <td>51.5966</td>\n",
       "      <td>7.4049</td>\n",
       "      <td>6.969285</td>\n",
       "      <td>...</td>\n",
       "      <td>100404.29</td>\n",
       "      <td>100.000000</td>\n",
       "      <td>878240.940</td>\n",
       "      <td>1.478975e+05</td>\n",
       "      <td>3.250797</td>\n",
       "      <td>1.053457</td>\n",
       "      <td>1908567.2</td>\n",
       "      <td>-2722836.2</td>\n",
       "      <td>273.88570</td>\n",
       "      <td>363.64650</td>\n",
       "    </tr>\n",
       "    <tr>\n",
       "      <th>526</th>\n",
       "      <td>526</td>\n",
       "      <td>0.3</td>\n",
       "      <td>2011-01-01</td>\n",
       "      <td>13700</td>\n",
       "      <td>0.706166</td>\n",
       "      <td>160.438020</td>\n",
       "      <td>205.0</td>\n",
       "      <td>51.3329</td>\n",
       "      <td>7.3411</td>\n",
       "      <td>6.969285</td>\n",
       "      <td>...</td>\n",
       "      <td>100404.29</td>\n",
       "      <td>100.000000</td>\n",
       "      <td>878240.940</td>\n",
       "      <td>1.478975e+05</td>\n",
       "      <td>3.250797</td>\n",
       "      <td>1.053457</td>\n",
       "      <td>1908567.2</td>\n",
       "      <td>-2722836.2</td>\n",
       "      <td>273.88570</td>\n",
       "      <td>363.64650</td>\n",
       "    </tr>\n",
       "    <tr>\n",
       "      <th>527</th>\n",
       "      <td>527</td>\n",
       "      <td>-2.4</td>\n",
       "      <td>2011-01-01</td>\n",
       "      <td>13710</td>\n",
       "      <td>-4.554620</td>\n",
       "      <td>428.067380</td>\n",
       "      <td>490.0</td>\n",
       "      <td>48.5734</td>\n",
       "      <td>12.2576</td>\n",
       "      <td>1.987463</td>\n",
       "      <td>...</td>\n",
       "      <td>97080.61</td>\n",
       "      <td>88.453660</td>\n",
       "      <td>-686366.560</td>\n",
       "      <td>-8.236961e+05</td>\n",
       "      <td>1.775235</td>\n",
       "      <td>0.463104</td>\n",
       "      <td>5913048.5</td>\n",
       "      <td>-6834334.0</td>\n",
       "      <td>267.84310</td>\n",
       "      <td>366.65536</td>\n",
       "    </tr>\n",
       "    <tr>\n",
       "      <th>528</th>\n",
       "      <td>528</td>\n",
       "      <td>-3.7</td>\n",
       "      <td>2011-01-01</td>\n",
       "      <td>13711</td>\n",
       "      <td>-1.579982</td>\n",
       "      <td>456.635860</td>\n",
       "      <td>289.0</td>\n",
       "      <td>50.6819</td>\n",
       "      <td>11.5150</td>\n",
       "      <td>5.878313</td>\n",
       "      <td>...</td>\n",
       "      <td>96140.76</td>\n",
       "      <td>90.055290</td>\n",
       "      <td>1827611.600</td>\n",
       "      <td>4.818145e+05</td>\n",
       "      <td>3.068190</td>\n",
       "      <td>1.423891</td>\n",
       "      <td>2686423.2</td>\n",
       "      <td>-3418687.8</td>\n",
       "      <td>269.93350</td>\n",
       "      <td>360.83206</td>\n",
       "    </tr>\n",
       "    <tr>\n",
       "      <th>529</th>\n",
       "      <td>529</td>\n",
       "      <td>-1.5</td>\n",
       "      <td>2011-01-01</td>\n",
       "      <td>13713</td>\n",
       "      <td>-0.137144</td>\n",
       "      <td>257.023560</td>\n",
       "      <td>380.0</td>\n",
       "      <td>51.0899</td>\n",
       "      <td>7.6290</td>\n",
       "      <td>5.216813</td>\n",
       "      <td>...</td>\n",
       "      <td>98930.00</td>\n",
       "      <td>99.656610</td>\n",
       "      <td>205859.720</td>\n",
       "      <td>5.211694e+04</td>\n",
       "      <td>2.274251</td>\n",
       "      <td>0.175960</td>\n",
       "      <td>2127948.8</td>\n",
       "      <td>-2812085.0</td>\n",
       "      <td>272.69907</td>\n",
       "      <td>370.06490</td>\n",
       "    </tr>\n",
       "    <tr>\n",
       "      <th>530</th>\n",
       "      <td>530</td>\n",
       "      <td>1.4</td>\n",
       "      <td>2011-01-01</td>\n",
       "      <td>13776</td>\n",
       "      <td>0.577968</td>\n",
       "      <td>198.584960</td>\n",
       "      <td>85.0</td>\n",
       "      <td>52.1789</td>\n",
       "      <td>9.9524</td>\n",
       "      <td>10.957586</td>\n",
       "      <td>...</td>\n",
       "      <td>99680.16</td>\n",
       "      <td>97.115974</td>\n",
       "      <td>-69294.550</td>\n",
       "      <td>-2.730792e+05</td>\n",
       "      <td>5.656416</td>\n",
       "      <td>0.901915</td>\n",
       "      <td>2230758.5</td>\n",
       "      <td>-2288177.0</td>\n",
       "      <td>273.08548</td>\n",
       "      <td>368.87985</td>\n",
       "    </tr>\n",
       "    <tr>\n",
       "      <th>531</th>\n",
       "      <td>531</td>\n",
       "      <td>1.4</td>\n",
       "      <td>2011-01-01</td>\n",
       "      <td>13777</td>\n",
       "      <td>0.438333</td>\n",
       "      <td>175.756870</td>\n",
       "      <td>110.0</td>\n",
       "      <td>52.2467</td>\n",
       "      <td>10.9592</td>\n",
       "      <td>11.885756</td>\n",
       "      <td>...</td>\n",
       "      <td>99643.76</td>\n",
       "      <td>91.982870</td>\n",
       "      <td>1747970.200</td>\n",
       "      <td>5.727522e+02</td>\n",
       "      <td>6.291200</td>\n",
       "      <td>0.371479</td>\n",
       "      <td>2489612.0</td>\n",
       "      <td>-2987951.0</td>\n",
       "      <td>272.29114</td>\n",
       "      <td>370.12332</td>\n",
       "    </tr>\n",
       "  </tbody>\n",
       "</table>\n",
       "<p>498 rows × 26 columns</p>\n",
       "</div>"
      ],
      "text/plain": [
       "     Unnamed: 0  t2m_obs        time  station  t2m_fc_mean        orog  \\\n",
       "0             0      1.2  2011-01-01        3    -0.022290  107.439460   \n",
       "1             1      1.6  2011-01-01       44     2.086415   19.397774   \n",
       "2             2     -6.3  2011-01-01       71    -6.609096  604.885000   \n",
       "3             3     -3.0  2011-01-01       73    -5.071753  461.441800   \n",
       "4             4      0.5  2011-01-01       78     1.743580   47.632523   \n",
       "5             5     -2.0  2011-01-01       91    -1.646765  348.869900   \n",
       "6             6      3.4  2011-01-01      102     3.768420   -0.193003   \n",
       "8             8     -1.5  2011-01-01      131    -0.379339  296.839200   \n",
       "9             9     -1.7  2011-01-01      142    -5.208958  461.575300   \n",
       "10           10     -1.5  2011-01-01      150    -2.749108  246.744230   \n",
       "11           11     -2.9  2011-01-01      151    -3.666374  481.332950   \n",
       "12           12     -1.3  2011-01-01      154    -4.632233  627.512800   \n",
       "14           14      1.4  2011-01-01      164     0.545553   49.267868   \n",
       "15           15      1.9  2011-01-01      167     1.147215   16.193830   \n",
       "17           17      1.3  2011-01-01      183     2.085754    1.442342   \n",
       "18           18     -1.9  2011-01-01      191    -3.162526  326.776060   \n",
       "19           19     -0.6  2011-01-01      198     0.096329  186.770420   \n",
       "20           20     -2.4  2011-01-01      217    -7.264445  645.201300   \n",
       "21           21     -1.1  2011-01-01      222    -2.561441  521.182000   \n",
       "22           22     -1.4  2011-01-01      232    -5.365300  483.201900   \n",
       "23           23     -0.8  2011-01-01      257    -5.598772  401.935200   \n",
       "24           24     -0.7  2011-01-01      259    -5.435004  434.875760   \n",
       "25           25     -2.6  2011-01-01      282    -3.178556  400.833860   \n",
       "26           26      2.1  2011-01-01      294     0.893186   75.700400   \n",
       "27           27      2.4  2011-01-01      298     1.874417    2.376826   \n",
       "28           28      1.3  2011-01-01      303     0.474331   65.320950   \n",
       "29           29      0.1  2011-01-01      314    -0.606885  300.643900   \n",
       "30           30     -3.9  2011-01-01      320    -3.679429  466.447940   \n",
       "31           31      0.6  2011-01-01      326     0.950570  239.268370   \n",
       "32           32     -2.8  2011-01-01      330    -3.816793  254.086610   \n",
       "..          ...      ...         ...      ...          ...         ...   \n",
       "501         501      1.3  2011-01-01     7367     0.425912  198.584960   \n",
       "502         502     -2.6  2011-01-01     7368    -0.423147  346.567080   \n",
       "503         503     -2.8  2011-01-01     7369    -3.907876  449.059880   \n",
       "504         504     -3.8  2011-01-01     7370    -4.307461  513.572630   \n",
       "505         505      2.9  2011-01-01     7373     4.394595   -1.427856   \n",
       "506         506      1.0  2011-01-01     7374     2.051744   46.831535   \n",
       "507         507      1.0  2011-01-01     7389     0.488646   50.502720   \n",
       "508         508      0.7  2011-01-01     7393     0.071850  145.185910   \n",
       "509         509     -4.5  2011-01-01     7394    -3.881807  535.933500   \n",
       "510         510     -3.0  2011-01-01     7395    -4.515904  428.067380   \n",
       "511         511     -4.9  2011-01-01     7396    -2.673963  309.588230   \n",
       "512         512     -1.5  2011-01-01     7403    -8.557275  652.143100   \n",
       "514         514     -3.1  2011-01-01     7412    -3.308950  296.438720   \n",
       "515         515     -4.3  2011-01-01     7419    -1.579253  481.332950   \n",
       "516         516     -1.7  2011-01-01     7420     0.088728  296.271850   \n",
       "517         517     -1.3  2011-01-01     7424    -6.937908  636.824300   \n",
       "518         518      2.0  2011-01-01     7427     2.701204   24.070190   \n",
       "519         519     -4.7  2011-01-01     7428    -3.062442  436.010500   \n",
       "520         520     -1.9  2011-01-01     7431    -6.358032  645.201300   \n",
       "521         521      0.8  2011-01-01     7432     0.690493   95.524796   \n",
       "522         522      0.5  2011-01-01    13670     1.367071   40.523773   \n",
       "523         523     -1.7  2011-01-01    13674    -4.161031  254.086610   \n",
       "524         524      1.0  2011-01-01    13675     0.648164  179.761800   \n",
       "525         525      1.0  2011-01-01    13696     1.118139  160.438020   \n",
       "526         526      0.3  2011-01-01    13700     0.706166  160.438020   \n",
       "527         527     -2.4  2011-01-01    13710    -4.554620  428.067380   \n",
       "528         528     -3.7  2011-01-01    13711    -1.579982  456.635860   \n",
       "529         529     -1.5  2011-01-01    13713    -0.137144  257.023560   \n",
       "530         530      1.4  2011-01-01    13776     0.577968  198.584960   \n",
       "531         531      1.4  2011-01-01    13777     0.438333  175.756870   \n",
       "\n",
       "     station_alt  station_lat  station_lon  u_pl500_fc_mean     ...      \\\n",
       "0          202.0      50.7827       6.0941         4.760467     ...       \n",
       "1           44.0      52.9335       8.2370        14.442179     ...       \n",
       "2          759.0      48.2156       8.9784         0.254339     ...       \n",
       "3          340.0      48.6159      13.0506         2.489346     ...       \n",
       "4           65.0      52.4853       7.9126        11.600490     ...       \n",
       "5          300.0      50.7446       9.3450         4.736032     ...       \n",
       "6           32.0      53.8617       8.1266        21.955555     ...       \n",
       "8          296.0      51.0881      12.9326         8.423413     ...       \n",
       "9          510.0      48.4060      11.3117         1.268854     ...       \n",
       "10         215.0      49.7273       8.1164         1.735267     ...       \n",
       "11         383.0      49.4691      11.8546         3.691315     ...       \n",
       "12         515.0      48.0197      12.2924         1.098634     ...       \n",
       "14          54.0      53.0316      13.9907        21.975270     ...       \n",
       "15           9.0      53.8412      13.6846        30.051037     ...       \n",
       "17          42.0      54.6792      13.4343        34.556347     ...       \n",
       "18         220.0      49.9695       9.9113         3.571361     ...       \n",
       "19         164.0      51.3745      11.2920         9.660959     ...       \n",
       "20         672.0      47.8774      11.3642         0.560958     ...       \n",
       "21         387.0      50.5907      12.7140         6.583127     ...       \n",
       "22         461.0      48.4254      10.9420         0.996702     ...       \n",
       "23         240.0      48.7270       8.2458         0.686966     ...       \n",
       "24         273.0      47.8064       7.6387        -0.047120     ...       \n",
       "25         240.0      49.8742      10.9206         4.188576     ...       \n",
       "26         110.0      52.3199       9.4300        13.187256     ...       \n",
       "27           3.0      54.3406      12.7108        33.451183     ...       \n",
       "28          55.0      52.0614      13.4996        14.132046     ...       \n",
       "29         232.0      51.1604      14.5042         9.543622     ...       \n",
       "30         350.0      49.9667      11.5197         4.536541     ...       \n",
       "31         120.0      51.7204       8.0577         7.316463     ...       \n",
       "32         450.0      49.5617       8.9673         1.936730     ...       \n",
       "..           ...          ...          ...              ...     ...       \n",
       "501        144.0      51.9644       9.8072        10.957586     ...       \n",
       "502        312.0      51.0007      10.3621         7.010738     ...       \n",
       "503        475.0      49.1623      10.3662         1.635378     ...       \n",
       "504        499.0      49.3909      12.6838         4.110865     ...       \n",
       "505          3.0      53.5984       6.7024        15.416923     ...       \n",
       "506         46.0      52.0814       6.9410         8.563717     ...       \n",
       "507         82.0      52.7461      13.8427        18.137976     ...       \n",
       "508        116.0      51.4493      14.2533        11.829504     ...       \n",
       "509        622.0      50.0315      11.9745         4.923308     ...       \n",
       "510        350.0      48.6596      12.5388         1.987463     ...       \n",
       "511        743.0      50.5084       9.2247         4.454960     ...       \n",
       "512        672.0      47.7955      10.0324         0.225032     ...       \n",
       "514        340.0      50.0083       9.4239         3.319382     ...       \n",
       "515        390.0      50.6610      12.0757         6.234338     ...       \n",
       "516        246.0      51.1044      11.7112         7.555974     ...       \n",
       "517        458.0      47.7724      12.9073         1.521050     ...       \n",
       "518         17.0      54.0188       9.9255        25.113466     ...       \n",
       "519        397.0      50.4167      10.8156         5.557469     ...       \n",
       "520        604.0      48.0130      11.5524         0.560958     ...       \n",
       "521         72.0      52.6423      10.6627        14.345943     ...       \n",
       "522         25.0      51.5088       6.7018         6.361315     ...       \n",
       "523        237.0      49.2942       8.9054         1.936730     ...       \n",
       "524         77.0      52.0818       9.4077        10.513386     ...       \n",
       "525         68.0      51.5966       7.4049         6.969285     ...       \n",
       "526        205.0      51.3329       7.3411         6.969285     ...       \n",
       "527        490.0      48.5734      12.2576         1.987463     ...       \n",
       "528        289.0      50.6819      11.5150         5.878313     ...       \n",
       "529        380.0      51.0899       7.6290         5.216813     ...       \n",
       "530         85.0      52.1789       9.9524        10.957586     ...       \n",
       "531        110.0      52.2467      10.9592        11.885756     ...       \n",
       "\n",
       "     sp_fc_mean  tcc_fc_mean  sshf_fc_mean  slhf_fc_mean  u10_fc_mean  \\\n",
       "0     101379.51    98.056010    634981.400  3.964501e+04     2.208909   \n",
       "1     101709.04    98.741800   1592483.900  3.706386e+05     6.223993   \n",
       "2      94432.85    91.602340  -1416809.800 -2.393660e+05    -0.394419   \n",
       "3      97368.55    91.139370     48696.496 -5.706034e+05     1.923471   \n",
       "4     101419.82    99.178986   1435826.900  6.162288e+05     4.472726   \n",
       "5      97728.27    99.158590   -437949.380 -1.315032e+05     2.346411   \n",
       "6     101625.16    98.139130    459276.160 -8.183858e+05    12.632340   \n",
       "8      98477.74    85.506300   3846844.200  2.003674e+05     4.465709   \n",
       "9      96778.49    92.215470   -768286.300 -6.913277e+05     1.684356   \n",
       "10     99352.55    89.482086   -591442.100 -4.780380e+05     1.117148   \n",
       "11     96601.88    96.489470     31768.310 -2.245069e+05     2.340694   \n",
       "12     95701.18    31.990782  -1140643.400 -6.286271e+05     0.647302   \n",
       "14    100747.50    94.984840   1895831.000 -5.760659e+03     7.602692   \n",
       "15    100880.49    99.281280   3396681.000  3.039430e+05     9.117790   \n",
       "17    100764.10    99.930940  -2420983.500 -3.402027e+06    14.334416   \n",
       "18     98510.83    97.016770   -585556.750 -5.884342e+05     2.257599   \n",
       "19     99610.73    88.301476   2647537.000  1.963725e+05     4.748913   \n",
       "20     95030.82    59.822290   -989143.700 -5.779598e+05     0.612731   \n",
       "21     95264.27    76.445090   2962243.200  9.482943e+05     3.468259   \n",
       "22     96699.89    92.059230  -1994298.400 -7.919316e+05     1.433940   \n",
       "23     98412.26    45.977272   -189437.220 -1.874320e+05    -1.693292   \n",
       "24     97657.46    77.110825  -1197756.100 -7.452592e+05    -0.292189   \n",
       "25     97805.08    98.963090   -640486.400 -6.659941e+05     2.107362   \n",
       "26    101243.09    98.105670   1664626.200  5.505562e+05     5.348842   \n",
       "27    100888.42    99.958435  -1766827.900 -2.770001e+06    14.267757   \n",
       "28    100931.14    87.653030   2030876.500  5.845036e+04     5.264215   \n",
       "29     98059.64    85.265240   2275243.800  2.853812e+05     4.259081   \n",
       "30     96474.23    99.640114   -221648.280 -1.560573e+05     2.420070   \n",
       "31     99554.64    99.862335   1152161.200  2.526911e+05     3.940972   \n",
       "32     99095.02    97.958350   -435133.280 -4.433018e+05     0.782253   \n",
       "..          ...          ...           ...           ...          ...   \n",
       "501    99680.16    97.115974    -69294.550 -2.730792e+05     5.656416   \n",
       "502    98020.79    87.652020   1311254.500  3.791158e+05     4.173886   \n",
       "503    96545.39    88.911964   -451238.750 -6.950791e+05     1.693541   \n",
       "504    95956.44    97.925230   1133587.500  3.846209e+05     2.451625   \n",
       "505   101912.79    95.811980   -954369.750 -1.373290e+06    10.672633   \n",
       "506   101644.69    99.223910    921969.600  3.585078e+05     3.866795   \n",
       "507   100946.86    93.440670   1857101.200  1.907699e+05     6.840592   \n",
       "508   100203.81    89.313780   2366592.500 -1.017849e+05     5.432653   \n",
       "509    95554.83    98.347120    947029.500  4.411344e+05     2.804105   \n",
       "510    97080.61    88.453660   -686366.560 -8.236961e+05     1.775235   \n",
       "511    98853.36    97.198250   -503004.120 -2.415096e+05     2.039153   \n",
       "512    94810.96    90.514590   -205764.200 -5.262788e+04    -0.755700   \n",
       "514    98678.06    97.914510   -385424.530 -4.237656e+05     1.848345   \n",
       "515    96113.33    81.444760   1782332.500  4.675791e+04     3.561338   \n",
       "516    98930.84    83.866610   3319823.800  8.792112e+05     4.222993   \n",
       "517    95554.61    34.303450  -1087169.100 -6.256552e+05     0.744298   \n",
       "518   101068.96    99.657680   3649306.000  7.145428e+05     7.742343   \n",
       "519    96354.66    95.839320   1118842.900  5.474869e+05     2.477529   \n",
       "520    95030.82    59.822290   -989143.700 -5.779598e+05     0.612731   \n",
       "521   101002.20    95.913730   1693040.600  2.713991e+05     6.013248   \n",
       "522   101925.46    99.970116    747625.100  1.603695e+05     2.463910   \n",
       "523    99095.02    97.958350   -435133.280 -4.433018e+05     0.782253   \n",
       "524    99824.98    98.604830    966077.800  1.928648e+05     4.913484   \n",
       "525   100404.29   100.000000    878240.940  1.478975e+05     3.250797   \n",
       "526   100404.29   100.000000    878240.940  1.478975e+05     3.250797   \n",
       "527    97080.61    88.453660   -686366.560 -8.236961e+05     1.775235   \n",
       "528    96140.76    90.055290   1827611.600  4.818145e+05     3.068190   \n",
       "529    98930.00    99.656610    205859.720  5.211694e+04     2.274251   \n",
       "530    99680.16    97.115974    -69294.550 -2.730792e+05     5.656416   \n",
       "531    99643.76    91.982870   1747970.200  5.727522e+02     6.291200   \n",
       "\n",
       "     v10_fc_mean  ssr_fc_mean  str_fc_mean  d2m_fc_mean  sm_fc_mean  \n",
       "0       0.755302    2433034.8   -3513225.0    273.57892   374.63348  \n",
       "1       0.800821    2427059.2   -1702554.9    275.06873   388.60350  \n",
       "2      -0.950840    4320586.0   -4435227.5    265.47473   437.02300  \n",
       "3       0.336067    5658946.5   -6691302.0    267.49640   366.52255  \n",
       "4       0.673820    2416039.5   -1872194.9    274.56433   263.73572  \n",
       "5       1.155579    2039684.1   -1838326.1    269.76184   373.94714  \n",
       "6      -0.445674    2508306.2   -3847206.0    276.19350         NaN  \n",
       "8       1.232024    3020785.2   -5267415.0    271.58180   363.70914  \n",
       "9       0.762767    5720165.0   -6124677.0    267.60098   371.40472  \n",
       "10      0.089691    2945057.5   -3159958.0    268.67880   371.05695  \n",
       "11      0.422939    4117999.8   -4119922.2    268.83572   267.61380  \n",
       "12      0.594112    7006553.5   -8730724.0    267.20740   366.80078  \n",
       "14      1.807731    1926055.5   -2842830.5    272.38657   370.36288  \n",
       "15      1.668495    2444181.5   -4026995.5    273.19153   356.58203  \n",
       "17      2.180772    2988495.0   -6553825.5    273.91214         NaN  \n",
       "18      0.478354    2615301.0   -2174419.2    269.36450   369.23312  \n",
       "19      0.661212    2720632.8   -4253402.5    271.96410   363.89080  \n",
       "20      0.961691    6629413.0   -8192329.0    265.41950   370.10070  \n",
       "21      0.994709    2999605.8   -4929755.5    269.34207   361.13312  \n",
       "22      0.796884    5304722.0   -5856875.5    267.72623   367.82645  \n",
       "23      0.753670    3948562.2   -4737333.5    265.18985   377.65253  \n",
       "24     -0.195556    4975002.0   -5436127.5    268.03943   401.77400  \n",
       "25      1.140932    2978810.0   -2540446.0    269.22100   275.74500  \n",
       "26      0.872017    2209140.2   -2161765.0    273.64320   336.21414  \n",
       "27      2.016071    2796635.2   -6115476.5    274.17923         NaN  \n",
       "28      1.145241    2229936.8   -2687859.2    272.16300   367.40280  \n",
       "29      0.664564    2249160.2   -3327199.2    271.02835   361.93237  \n",
       "30      1.039218    3149270.8   -2770073.0    269.02160   306.40590  \n",
       "31      0.974937    1984478.1   -2911473.2    273.63333   374.35815  \n",
       "32      0.930588    3291845.0   -3397974.0    268.54712   373.58060  \n",
       "..           ...          ...          ...          ...         ...  \n",
       "501     0.901915    2230758.5   -2288177.0    273.08548   368.87985  \n",
       "502     1.011768    2250787.2   -2869663.0    272.04230   361.50180  \n",
       "503     0.758387    4511095.0   -4851913.0    268.34186   464.01940  \n",
       "504     0.767963    4054460.8   -4779443.5    268.18335   363.59595  \n",
       "505    -0.482593    2614734.5   -3694538.2    276.68646         NaN  \n",
       "506     0.674884    2081842.8   -2130604.5    274.96286   252.10430  \n",
       "507     1.573891    1985793.8   -2322002.8    272.34137   360.06710  \n",
       "508     1.131747    2455968.5   -3530302.5    271.98750   360.95874  \n",
       "509     0.801761    3252116.8   -3250731.8    268.68930   354.36972  \n",
       "510     0.463104    5913048.5   -6834334.0    267.84310   366.65536  \n",
       "511     1.250715    1931337.2   -1938161.6    270.21152   371.18475  \n",
       "512     0.527349    4412635.0   -5889005.5    264.87112   373.28943  \n",
       "514     0.700756    2293968.5   -2189748.8    269.18323   371.57288  \n",
       "515     1.477639    2925303.0   -4032496.2    270.05954   366.43265  \n",
       "516     0.911401    2576029.5   -4484457.5    271.91843   358.26562  \n",
       "517     1.030973    6597688.5   -8044392.5    267.16577   368.32620  \n",
       "518     0.893935    1849889.2   -3684836.8    274.90027   284.47430  \n",
       "519     1.178118    2453264.8   -2901803.5    269.56150   357.42657  \n",
       "520     0.961691    6629413.0   -8192329.0    265.41950   370.10070  \n",
       "521     0.830452    2402315.8   -2543505.5    273.10550   336.80610  \n",
       "522     0.621952    2071682.4   -2733326.0    274.45303   374.19617  \n",
       "523     0.930588    3291845.0   -3397974.0    268.54712   373.58060  \n",
       "524     0.634489    2188033.2   -2131446.5    273.34840   370.63360  \n",
       "525     1.053457    1908567.2   -2722836.2    273.88570   363.64650  \n",
       "526     1.053457    1908567.2   -2722836.2    273.88570   363.64650  \n",
       "527     0.463104    5913048.5   -6834334.0    267.84310   366.65536  \n",
       "528     1.423891    2686423.2   -3418687.8    269.93350   360.83206  \n",
       "529     0.175960    2127948.8   -2812085.0    272.69907   370.06490  \n",
       "530     0.901915    2230758.5   -2288177.0    273.08548   368.87985  \n",
       "531     0.371479    2489612.0   -2987951.0    272.29114   370.12332  \n",
       "\n",
       "[498 rows x 26 columns]"
      ]
     },
     "execution_count": 79,
     "metadata": {},
     "output_type": "execute_result"
    }
   ],
   "source": [
    "trainData.loc[trainData['time'] == times[0]]"
   ]
  },
  {
   "cell_type": "code",
   "execution_count": 80,
   "metadata": {},
   "outputs": [
    {
     "data": {
      "text/plain": [
       "(908857, 26)"
      ]
     },
     "execution_count": 80,
     "metadata": {},
     "output_type": "execute_result"
    }
   ],
   "source": [
    "trainData.shape"
   ]
  },
  {
   "cell_type": "code",
   "execution_count": 81,
   "metadata": {},
   "outputs": [
    {
     "data": {
      "text/plain": [
       "array(['2011-01-01', '2011-01-02', '2011-01-03', ..., '2015-12-29',\n",
       "       '2015-12-30', '2015-12-31'], dtype=object)"
      ]
     },
     "execution_count": 81,
     "metadata": {},
     "output_type": "execute_result"
    }
   ],
   "source": [
    "times.unique()"
   ]
  },
  {
   "cell_type": "code",
   "execution_count": 82,
   "metadata": {},
   "outputs": [],
   "source": [
    "times = times.unique()"
   ]
  },
  {
   "cell_type": "code",
   "execution_count": 83,
   "metadata": {},
   "outputs": [],
   "source": [
    "XX = trainData.loc[trainData['time'] == times[0]]['t2m_obs']"
   ]
  },
  {
   "cell_type": "code",
   "execution_count": 84,
   "metadata": {},
   "outputs": [],
   "source": [
    "YY = trainData.loc[trainData['time'] == times[0]]['t2m_fc_mean']"
   ]
  },
  {
   "cell_type": "code",
   "execution_count": 85,
   "metadata": {},
   "outputs": [],
   "source": [
    "mse = ((YY - XX) ** 2).mean()"
   ]
  },
  {
   "cell_type": "code",
   "execution_count": 86,
   "metadata": {},
   "outputs": [
    {
     "data": {
      "text/plain": [
       "5.5870308641542445"
      ]
     },
     "execution_count": 86,
     "metadata": {},
     "output_type": "execute_result"
    }
   ],
   "source": [
    "mse"
   ]
  },
  {
   "cell_type": "code",
   "execution_count": 87,
   "metadata": {},
   "outputs": [],
   "source": [
    "XX = trainData.loc[trainData['time'] == times[1]]['t2m_obs']"
   ]
  },
  {
   "cell_type": "code",
   "execution_count": 88,
   "metadata": {},
   "outputs": [],
   "source": [
    "YY = trainData.loc[trainData['time'] == times[1]]['t2m_fc_mean']"
   ]
  },
  {
   "cell_type": "code",
   "execution_count": 89,
   "metadata": {},
   "outputs": [],
   "source": [
    "mse2 = ((YY - XX) ** 2).mean()"
   ]
  },
  {
   "cell_type": "code",
   "execution_count": 90,
   "metadata": {},
   "outputs": [
    {
     "data": {
      "text/plain": [
       "4.567149720855405"
      ]
     },
     "execution_count": 90,
     "metadata": {},
     "output_type": "execute_result"
    }
   ],
   "source": [
    "mse2"
   ]
  },
  {
   "cell_type": "code",
   "execution_count": 92,
   "metadata": {},
   "outputs": [],
   "source": [
    "bias = 0\n",
    "for i in range(len(times)):\n",
    "    time = times[i]\n",
    "    XX = trainData.loc[trainData['time'] == time]['t2m_obs']\n",
    "    YY = trainData.loc[trainData['time'] == time]['t2m_fc_mean']\n",
    "    mse = ((YY - XX) ** 2).mean()\n",
    "    bias = bias + mse"
   ]
  },
  {
   "cell_type": "code",
   "execution_count": 94,
   "metadata": {},
   "outputs": [],
   "source": [
    "bias /= len(times)"
   ]
  },
  {
   "cell_type": "code",
   "execution_count": 95,
   "metadata": {},
   "outputs": [
    {
     "data": {
      "text/plain": [
       "3.8661013630087266"
      ]
     },
     "execution_count": 95,
     "metadata": {},
     "output_type": "execute_result"
    }
   ],
   "source": [
    "bias"
   ]
  },
  {
   "cell_type": "code",
   "execution_count": 93,
   "metadata": {},
   "outputs": [
    {
     "data": {
      "text/plain": [
       "'2'"
      ]
     },
     "execution_count": 93,
     "metadata": {},
     "output_type": "execute_result"
    }
   ],
   "source": [
    "\"%d\" % 2"
   ]
  },
  {
   "cell_type": "code",
   "execution_count": 96,
   "metadata": {},
   "outputs": [
    {
     "ename": "NameError",
     "evalue": "name 'sqrt' is not defined",
     "output_type": "error",
     "traceback": [
      "\u001b[0;31m---------------------------------------------------------------------------\u001b[0m",
      "\u001b[0;31mNameError\u001b[0m                                 Traceback (most recent call last)",
      "\u001b[0;32m<ipython-input-96-ee35c306096e>\u001b[0m in \u001b[0;36m<module>\u001b[0;34m()\u001b[0m\n\u001b[0;32m----> 1\u001b[0;31m \u001b[0msqrt\u001b[0m\u001b[0;34m(\u001b[0m\u001b[0mbias\u001b[0m\u001b[0;34m)\u001b[0m\u001b[0;34m\u001b[0m\u001b[0m\n\u001b[0m",
      "\u001b[0;31mNameError\u001b[0m: name 'sqrt' is not defined"
     ]
    }
   ],
   "source": [
    "sqrt(bias)"
   ]
  },
  {
   "cell_type": "code",
   "execution_count": 97,
   "metadata": {},
   "outputs": [
    {
     "data": {
      "text/plain": [
       "1.9662404133291347"
      ]
     },
     "execution_count": 97,
     "metadata": {},
     "output_type": "execute_result"
    }
   ],
   "source": [
    "np.sqrt(bias)"
   ]
  },
  {
   "cell_type": "code",
   "execution_count": 98,
   "metadata": {},
   "outputs": [],
   "source": [
    "error = Y - X"
   ]
  },
  {
   "cell_type": "code",
   "execution_count": 99,
   "metadata": {},
   "outputs": [
    {
     "data": {
      "text/plain": [
       "0        -1.222290\n",
       "1         0.486415\n",
       "2        -0.309096\n",
       "3        -2.071753\n",
       "4         1.243580\n",
       "5         0.353235\n",
       "6         0.368420\n",
       "8         1.120661\n",
       "9        -3.508958\n",
       "10       -1.249108\n",
       "11       -0.766374\n",
       "12       -3.332233\n",
       "14       -0.854447\n",
       "15       -0.752785\n",
       "17        0.785754\n",
       "18       -1.262526\n",
       "19        0.696329\n",
       "20       -4.864445\n",
       "21       -1.461441\n",
       "22       -3.965300\n",
       "23       -4.798772\n",
       "24       -4.735004\n",
       "25       -0.578556\n",
       "26       -1.206814\n",
       "27       -0.525583\n",
       "28       -0.825669\n",
       "29       -0.706885\n",
       "30        0.220571\n",
       "31        0.350570\n",
       "32       -1.016793\n",
       "            ...   \n",
       "980529    0.471831\n",
       "980530    0.897656\n",
       "980531    0.617664\n",
       "980532    1.548316\n",
       "980533    0.776826\n",
       "980534    1.295710\n",
       "980535   -1.962491\n",
       "980536    1.676188\n",
       "980537   -0.156344\n",
       "980538   -0.722886\n",
       "980539   -1.917117\n",
       "980540   -2.345442\n",
       "980541   -0.200716\n",
       "980542   -1.825060\n",
       "980543    0.965426\n",
       "980544    0.863911\n",
       "980545   -1.769758\n",
       "980546    0.136272\n",
       "980547   -0.840972\n",
       "980548   -2.874273\n",
       "980549   -0.991635\n",
       "980550    2.813356\n",
       "980551   -0.985241\n",
       "980552   -0.323944\n",
       "980553   -2.295521\n",
       "980554   -1.157571\n",
       "980556   -0.750335\n",
       "980558   -1.971109\n",
       "980559    0.215183\n",
       "980560   -1.674630\n",
       "Length: 908857, dtype: float64"
      ]
     },
     "execution_count": 99,
     "metadata": {},
     "output_type": "execute_result"
    }
   ],
   "source": [
    "error"
   ]
  },
  {
   "cell_type": "code",
   "execution_count": 100,
   "metadata": {},
   "outputs": [],
   "source": [
    "trainData['error'] = Y - X"
   ]
  },
  {
   "cell_type": "code",
   "execution_count": null,
   "metadata": {},
   "outputs": [],
   "source": []
  }
 ],
 "metadata": {
  "kernelspec": {
   "display_name": "Python 3",
   "language": "python",
   "name": "python3"
  },
  "language_info": {
   "codemirror_mode": {
    "name": "ipython",
    "version": 3
   },
   "file_extension": ".py",
   "mimetype": "text/x-python",
   "name": "python",
   "nbconvert_exporter": "python",
   "pygments_lexer": "ipython3",
   "version": "3.6.5"
  }
 },
 "nbformat": 4,
 "nbformat_minor": 2
}
